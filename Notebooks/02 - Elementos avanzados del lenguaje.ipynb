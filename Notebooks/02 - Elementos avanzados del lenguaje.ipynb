{
 "cells": [
  {
   "cell_type": "markdown",
   "metadata": {},
   "source": [
    "# Introducción a Python\n",
    "\n",
    "## Elementos avanzados del lenguaje\n",
    "\n",
    "### Tipos de datos compuestos\n",
    "\n",
    "Los datos compuestos son aquellos que agrupan varios valores. Estos valores pueden ser del mismo tipo o de tipos diferentes. Algunas notas relativas a los tipos compuestos:\n",
    "1. Los operadores matemáticos, lógicos y de comparación no siempre funcionan con los datos compuestos (sobrecarga de operadores).\n",
    "1. En python todos los tipos de datos son clases. Esto quiere decir que los tipos de datos compuestos tienen asociado un comportamiento. Es decir se puede acceder a ciertos valores y funciones integradas en una variable con el operador punto (.)\n",
    "\n",
    "#### Número Complejos\n",
    "\n",
    "En **python** se encuentra definida las operaciones básicas y literales para números complejos. Para asignar a una variable un valor complejo se usa la función complex:"
   ]
  },
  {
   "cell_type": "code",
   "execution_count": 1,
   "metadata": {
    "ExecuteTime": {
     "end_time": "2022-06-23T14:07:38.775679Z",
     "start_time": "2022-06-23T14:07:38.769475Z"
    }
   },
   "outputs": [],
   "source": [
    "a_complex = complex(3,4.5)"
   ]
  },
  {
   "cell_type": "markdown",
   "metadata": {},
   "source": [
    "Ahora podemos ver su parte real, imaginaria y su conjugado"
   ]
  },
  {
   "cell_type": "code",
   "execution_count": 2,
   "metadata": {
    "ExecuteTime": {
     "end_time": "2022-06-23T14:08:03.166550Z",
     "start_time": "2022-06-23T14:08:03.161266Z"
    }
   },
   "outputs": [
    {
     "name": "stdout",
     "output_type": "stream",
     "text": [
      "Parte Real  3.0\n",
      "Parte Imaginaria  4.5\n",
      "Conjugado  (3-4.5j)\n"
     ]
    }
   ],
   "source": [
    "print (\"Parte Real \", a_complex.real)\n",
    "print (\"Parte Imaginaria \", a_complex.imag)\n",
    "print (\"Conjugado \", a_complex.conjugate())"
   ]
  },
  {
   "cell_type": "markdown",
   "metadata": {},
   "source": [
    "Otra forma de crear una variable compleja es utilizando una literal compleja de la forma $x\\pm y\\mathrm{j}$"
   ]
  },
  {
   "cell_type": "code",
   "execution_count": 3,
   "metadata": {
    "ExecuteTime": {
     "end_time": "2022-06-23T14:09:04.366603Z",
     "start_time": "2022-06-23T14:09:04.353090Z"
    }
   },
   "outputs": [],
   "source": [
    "b_complex = 4-3j\n",
    "c_complex = 4.0+1j"
   ]
  },
  {
   "cell_type": "markdown",
   "metadata": {},
   "source": [
    "Podemos usar los operadores matemáticos sin ningún problema:"
   ]
  },
  {
   "cell_type": "code",
   "execution_count": 7,
   "metadata": {
    "ExecuteTime": {
     "end_time": "2022-06-23T14:10:12.554619Z",
     "start_time": "2022-06-23T14:10:12.536343Z"
    }
   },
   "outputs": [
    {
     "name": "stdout",
     "output_type": "stream",
     "text": [
      "Comparación de dos flotantes    : False\n",
      "Parte de real del complex1      : 1.0\n",
      "Parte de imaginaria del complex2: 6.0\n",
      "Multiplicación de dos complejos : (-16+12j)\n",
      "False\n",
      "Complejos conjugados:  (1-3j) (2-6j)\n"
     ]
    }
   ],
   "source": [
    "complex1 = 1+3j\n",
    "complex2 = complex(2,6)\n",
    "print (\"Comparación de dos flotantes    :\",complex1 == complex2)\n",
    "print (\"Parte de real del complex1      :\",complex1.real)\n",
    "print (\"Parte de imaginaria del complex2:\",complex2.imag)\n",
    "print (\"Multiplicación de dos complejos :\",complex1*complex2)\n",
    "print (abs(complex1)>abs(complex2))\n",
    "print (\"Complejos conjugados: \", complex1.conjugate(), complex2.conjugate())"
   ]
  },
  {
   "cell_type": "markdown",
   "metadata": {},
   "source": [
    "**OJO** La mayoria de los operadores de comparación no se puede usar directamente:"
   ]
  },
  {
   "cell_type": "code",
   "execution_count": 8,
   "metadata": {
    "ExecuteTime": {
     "end_time": "2022-06-23T14:10:42.348446Z",
     "start_time": "2022-06-23T14:10:42.292972Z"
    }
   },
   "outputs": [
    {
     "ename": "TypeError",
     "evalue": "'>' not supported between instances of 'complex' and 'complex'",
     "output_type": "error",
     "traceback": [
      "\u001b[0;31m---------------------------------------------------------------------------\u001b[0m",
      "\u001b[0;31mTypeError\u001b[0m                                 Traceback (most recent call last)",
      "\u001b[0;32m<ipython-input-8-460ed78f4995>\u001b[0m in \u001b[0;36m<module>\u001b[0;34m\u001b[0m\n\u001b[1;32m      1\u001b[0m \u001b[0;31m###Esto es un error\u001b[0m\u001b[0;34m\u001b[0m\u001b[0;34m\u001b[0m\u001b[0;34m\u001b[0m\u001b[0m\n\u001b[0;32m----> 2\u001b[0;31m \u001b[0mprint\u001b[0m \u001b[0;34m(\u001b[0m\u001b[0ma_complex\u001b[0m \u001b[0;34m>\u001b[0m \u001b[0mb_complex\u001b[0m\u001b[0;34m)\u001b[0m\u001b[0;34m\u001b[0m\u001b[0;34m\u001b[0m\u001b[0m\n\u001b[0m",
      "\u001b[0;31mTypeError\u001b[0m: '>' not supported between instances of 'complex' and 'complex'"
     ]
    }
   ],
   "source": [
    "###Esto es un error\n",
    "print (a_complex > b_complex)"
   ]
  },
  {
   "cell_type": "markdown",
   "metadata": {},
   "source": [
    "Lo que si podemos es emplear la función **abs** para compararlos:"
   ]
  },
  {
   "cell_type": "code",
   "execution_count": 9,
   "metadata": {
    "ExecuteTime": {
     "end_time": "2022-06-23T14:11:17.408220Z",
     "start_time": "2022-06-23T14:11:17.404772Z"
    }
   },
   "outputs": [
    {
     "name": "stdout",
     "output_type": "stream",
     "text": [
      "|a|>|b| -> True\n"
     ]
    }
   ],
   "source": [
    "print (\"|a|>|b| ->\", abs(a_complex)>abs(b_complex))"
   ]
  },
  {
   "cell_type": "markdown",
   "metadata": {},
   "source": [
    "#### Strings (Cadenas de caracteres)\n",
    "\n",
    "En **python** se pueden utilizar comillas simples o dobles para declarar una cadena o texto:"
   ]
  },
  {
   "cell_type": "code",
   "execution_count": 12,
   "metadata": {
    "ExecuteTime": {
     "end_time": "2022-06-23T14:12:38.836934Z",
     "start_time": "2022-06-23T14:12:38.826892Z"
    }
   },
   "outputs": [
    {
     "name": "stdout",
     "output_type": "stream",
     "text": [
      "Verano 2022\n"
     ]
    }
   ],
   "source": [
    "cadena1 = \"Hola mundo\"\n",
    "cadena2 = 'Astrophysics Rocks!!'\n",
    "cadena3 = \"Verano 2022\"\n",
    "print (cadena3)"
   ]
  },
  {
   "cell_type": "markdown",
   "metadata": {},
   "source": [
    "Las cadenas permiten el operador de indexado **[]**. Con el podemos acceder a un caracter dentro de la cadena. Por ejemplo:"
   ]
  },
  {
   "cell_type": "code",
   "execution_count": 15,
   "metadata": {
    "ExecuteTime": {
     "end_time": "2022-06-23T14:14:15.946075Z",
     "start_time": "2022-06-23T14:14:15.940290Z"
    }
   },
   "outputs": [
    {
     "name": "stdout",
     "output_type": "stream",
     "text": [
      "H\n",
      "s\n",
      "c\n"
     ]
    }
   ],
   "source": [
    "print (cadena1[0])      #El primer caracter\n",
    "print (cadena2[1])      #El segundo\n",
    "print (cadena2[-10])     #El último caracter"
   ]
  },
  {
   "cell_type": "markdown",
   "metadata": {
    "ExecuteTime": {
     "end_time": "2021-06-11T04:05:42.530871Z",
     "start_time": "2021-06-11T04:05:42.521555Z"
    }
   },
   "source": [
    "De nuevo, en los tipos de datos compuestos no todos los operadores funcionan correctamente:"
   ]
  },
  {
   "cell_type": "code",
   "execution_count": 17,
   "metadata": {
    "ExecuteTime": {
     "end_time": "2022-06-23T14:14:34.961864Z",
     "start_time": "2022-06-23T14:14:34.949035Z"
    }
   },
   "outputs": [
    {
     "data": {
      "text/plain": [
       "'Hola mundoAstrophysics Rocks!!'"
      ]
     },
     "execution_count": 17,
     "metadata": {},
     "output_type": "execute_result"
    }
   ],
   "source": [
    "cadena1+cadena2"
   ]
  },
  {
   "cell_type": "markdown",
   "metadata": {},
   "source": [
    "Existen varias funciones implementada para manipular las cadenas de caracteres:"
   ]
  },
  {
   "cell_type": "code",
   "execution_count": 19,
   "metadata": {
    "ExecuteTime": {
     "end_time": "2022-06-23T14:15:33.770738Z",
     "start_time": "2022-06-23T14:15:33.763589Z"
    }
   },
   "outputs": [
    {
     "name": "stdout",
     "output_type": "stream",
     "text": [
      "HOLA MUNDO\n",
      "hola mundo\n",
      "Hala munda\n"
     ]
    }
   ],
   "source": [
    "print (cadena1.upper())    #Mayúsculas\n",
    "print (cadena1.lower())    #Minusculas\n",
    "print (cadena1.replace(\"o\",\"a\"))   #Remplazar un caracter\n",
    "\n"
   ]
  },
  {
   "cell_type": "markdown",
   "metadata": {},
   "source": [
    "Las cadenas son iterables, es decir las podemos recorrer con un ciclo for"
   ]
  },
  {
   "cell_type": "code",
   "execution_count": 20,
   "metadata": {
    "ExecuteTime": {
     "end_time": "2022-06-23T14:16:33.908403Z",
     "start_time": "2022-06-23T14:16:33.903444Z"
    }
   },
   "outputs": [
    {
     "name": "stdout",
     "output_type": "stream",
     "text": [
      "A\n",
      "s\n",
      "t\n",
      "r\n",
      "o\n",
      "p\n",
      "h\n",
      "y\n",
      "s\n",
      "i\n",
      "c\n",
      "s\n",
      " \n",
      "R\n",
      "o\n",
      "c\n",
      "k\n",
      "s\n",
      "!\n",
      "!\n"
     ]
    }
   ],
   "source": [
    "for ic in cadena2:\n",
    "    print (ic)"
   ]
  },
  {
   "cell_type": "markdown",
   "metadata": {},
   "source": [
    "A partir de **python3** las cadenas utilizan por defecto la codificación unicode por lo que acepta caracteres con acento, texto en cirilico, etc."
   ]
  },
  {
   "cell_type": "code",
   "execution_count": 21,
   "metadata": {
    "ExecuteTime": {
     "end_time": "2022-06-23T14:17:41.096642Z",
     "start_time": "2022-06-23T14:17:41.083757Z"
    }
   },
   "outputs": [
    {
     "name": "stdout",
     "output_type": "stream",
     "text": [
      "Verano de Investigación Astronómica 2021\n",
      "ようこそ\n"
     ]
    }
   ],
   "source": [
    "titulo =\"Verano de Investigación Astronómica\"\n",
    "#En python2 se tenia que anteponer la letra u para utilizar \n",
    "titulo2 = u\"Verano de Investigación Astronómica\"\n",
    "bienvenidos = \"ようこそ\"\n",
    "\n",
    "\n",
    "print (titulo+\" \" + \"2021\")\n",
    "print (bienvenidos)"
   ]
  },
  {
   "cell_type": "markdown",
   "metadata": {},
   "source": [
    "#### Formateo de variables en cadenas\n",
    "\n",
    "Podemos pedir que los resultados de una operación sean incorporados dentro del texto a desplegar (por ejemplo en una gráfica o en una salida en la terminal). Existen varias notaciones para conseguirlo:\n",
    "\n",
    "##### Notación tipo C\n",
    "\n",
    "Aqui se introduce una \"especificador de formato\" dentro de la cadena empleando el simbolo de porciento (%):\n",
    "\n",
    "<table><tr><td>\n",
    "    <b>Formato</b></td><td> <b>Tipo de Dato</b></td> <td><b> Efecto</b></td> </tr>\n",
    "    <tr>\n",
    "    <td> %d</td><td> entero</td> <td> Convierte el entero a su representación de cadena </tr>\n",
    "    <tr>\n",
    "        <td>%f</td><td>flotante </td> <td>Convierte el flotante a su representación de cadena usando un número predeterminado de decimales</td></tr>\n",
    "    <tr>\n",
    "        <td>%e</td><td>flotante </td> <td>Convierte el flotante a su representación de cadena usando notación científica</td> \n",
    "    </tr>\n",
    "        <tr>\n",
    "        <td>%06d</td><td>entero </td> <td>Similar a %d solo que rellena con ceros hasta seis digitos</td> \n",
    "    </tr>\n",
    "     <tr>\n",
    "        <td>%.2f</td><td>flotante </td> <td>Similar a %f solo que despliega dos digitos después del punto decimal</td></tr>\n",
    "   \n",
    "</table>\n",
    "\n",
    "**Ejemplo**"
   ]
  },
  {
   "cell_type": "code",
   "execution_count": 22,
   "metadata": {
    "ExecuteTime": {
     "end_time": "2022-06-23T14:19:50.735646Z",
     "start_time": "2022-06-23T14:19:50.728531Z"
    }
   },
   "outputs": [
    {
     "name": "stdout",
     "output_type": "stream",
     "text": [
      "Convierte a entero d=3\n",
      "Convierte a entero f=423\n",
      "Ahora en notación científica f=4.234561e+02\n",
      "Ahora en notación científica f=4.23e+02 solo con dos decimales\n"
     ]
    }
   ],
   "source": [
    "d = 3\n",
    "f = 423.4561\n",
    "\n",
    "print (\"Convierte a entero d=%d\"%d)\n",
    "print (\"Convierte a entero f=%d\"%f)\n",
    "print (\"Ahora en notación científica f=%e\"%f)\n",
    "print (\"Ahora en notación científica f=%.2e solo con dos decimales\"%f)\n"
   ]
  },
  {
   "cell_type": "markdown",
   "metadata": {},
   "source": [
    "#### Método format\n",
    "\n",
    "Las cadenas tienen un método llamada **format** para remplezar un par de llaves **{}** por el valor de una variable. Ejemplo:"
   ]
  },
  {
   "cell_type": "code",
   "execution_count": 24,
   "metadata": {
    "ExecuteTime": {
     "end_time": "2022-06-23T14:20:59.495221Z",
     "start_time": "2022-06-23T14:20:59.484791Z"
    }
   },
   "outputs": [
    {
     "name": "stdout",
     "output_type": "stream",
     "text": [
      "Aqui va un entero 3 y aqui va un float 423.4561.\n"
     ]
    }
   ],
   "source": [
    "texto =\"Aqui va un entero {} y aqui va un float {}.\"\n",
    "    \n",
    "print (texto.format(d,f))"
   ]
  },
  {
   "cell_type": "markdown",
   "metadata": {
    "ExecuteTime": {
     "end_time": "2021-06-17T16:20:35.039941Z",
     "start_time": "2021-06-17T16:20:35.032166Z"
    }
   },
   "source": [
    "Es posible darle un nombre temporal a una variable que deseamos que sea reemplazada:"
   ]
  },
  {
   "cell_type": "code",
   "execution_count": null,
   "metadata": {
    "ExecuteTime": {
     "end_time": "2022-06-23T13:07:27.594302Z",
     "start_time": "2022-06-23T13:07:27.591598Z"
    }
   },
   "outputs": [],
   "source": [
    "texto2 = \"Aqui va un entero {un_int} y aqui va un float {un_float}.\"\n",
    "print (texto2.format(un_float=f, un_int=d))"
   ]
  },
  {
   "cell_type": "markdown",
   "metadata": {},
   "source": [
    "Para especificar las opciones del formato empleamos los dos puntos **:**"
   ]
  },
  {
   "cell_type": "code",
   "execution_count": 27,
   "metadata": {
    "ExecuteTime": {
     "end_time": "2022-06-23T14:22:24.947235Z",
     "start_time": "2022-06-23T14:22:24.940256Z"
    }
   },
   "outputs": [
    {
     "name": "stdout",
     "output_type": "stream",
     "text": [
      "Aqui va un entero 3 y aqui va un float +423.46.\n"
     ]
    }
   ],
   "source": [
    "texto3 = \"Aqui va un entero {un_int} y aqui va un float {un_float:+.2f}.\"\n",
    "print (texto3.format(un_float=f, un_int=d))"
   ]
  },
  {
   "cell_type": "markdown",
   "metadata": {
    "ExecuteTime": {
     "end_time": "2021-06-11T16:48:34.921486Z",
     "start_time": "2021-06-11T16:48:34.909486Z"
    }
   },
   "source": [
    "Mas información en el estándar [PEP3101](https://www.python.org/dev/peps/pep-3101/). "
   ]
  },
  {
   "cell_type": "markdown",
   "metadata": {},
   "source": [
    "#### Format String (f-string)\n",
    "\n",
    "Permite ingresar el valor de una variable dentro de un string. Disponible a partir de **python 3.6**. Para utilizarlo se coloca un caracter **f** antes de las comillas de la cadena. Ejemplo:\n"
   ]
  },
  {
   "cell_type": "code",
   "execution_count": 29,
   "metadata": {
    "ExecuteTime": {
     "end_time": "2022-06-23T14:24:06.843514Z",
     "start_time": "2022-06-23T14:24:06.830315Z"
    }
   },
   "outputs": [
    {
     "name": "stdout",
     "output_type": "stream",
     "text": [
      "Hola David tu calificación es 5.\n",
      "Hola David tu calificación es 10.\n"
     ]
    }
   ],
   "source": [
    "nombre = \"David\"\n",
    "calificacion = 5\n",
    "\n",
    "txt = f\"Hola {nombre} tu calificación es {calificacion}.\"\n",
    "\n",
    "print (txt)\n",
    "\n",
    "calificacion = 10\n",
    "\n",
    "print (txt)"
   ]
  },
  {
   "cell_type": "markdown",
   "metadata": {},
   "source": [
    "#### Listas\n",
    "\n",
    "Python incorpora de manera directa algunos tipos de datos compuestos que son útiles en el desarrollo de aplicaciones. \n",
    "\n",
    "Las **listas** son arreglos de objetos de diferentes tipos. Se pueden modificar e iterar:"
   ]
  },
  {
   "cell_type": "code",
   "execution_count": 32,
   "metadata": {
    "ExecuteTime": {
     "end_time": "2022-06-23T14:26:02.700653Z",
     "start_time": "2022-06-23T14:26:02.697642Z"
    }
   },
   "outputs": [],
   "source": [
    "lista1 =[10,3.1426,3+1j]   #Una lista de valores\n",
    "lista2 = [] #Una lista vacia"
   ]
  },
  {
   "cell_type": "markdown",
   "metadata": {},
   "source": [
    "Podemos imprimir el numero de elementos en las listas con la función len:\n",
    "\n",
    "    len(lista1)\n",
    "    len(lista2)\n"
   ]
  },
  {
   "cell_type": "code",
   "execution_count": 33,
   "metadata": {
    "ExecuteTime": {
     "end_time": "2022-06-23T14:26:04.804105Z",
     "start_time": "2022-06-23T14:26:04.795306Z"
    }
   },
   "outputs": [
    {
     "name": "stdout",
     "output_type": "stream",
     "text": [
      "El tamaño de lista1 es  3\n",
      "El tamaño de lista2 es  0\n"
     ]
    }
   ],
   "source": [
    "print (\"El tamaño de lista1 es \", len(lista1))\n",
    "print (\"El tamaño de lista2 es \", len(lista2))"
   ]
  },
  {
   "cell_type": "markdown",
   "metadata": {},
   "source": [
    "Podemos recorrer (iterar) la lista con un ciclo **for**:"
   ]
  },
  {
   "cell_type": "code",
   "execution_count": 36,
   "metadata": {
    "ExecuteTime": {
     "end_time": "2022-06-23T14:26:35.206828Z",
     "start_time": "2022-06-23T14:26:35.204095Z"
    }
   },
   "outputs": [
    {
     "name": "stdout",
     "output_type": "stream",
     "text": [
      "10\n",
      "3.1426\n",
      "(3+1j)\n"
     ]
    }
   ],
   "source": [
    "for elemento in lista1:\n",
    "    print (elemento)"
   ]
  },
  {
   "cell_type": "markdown",
   "metadata": {},
   "source": [
    "O bien con un ciclo **while**:"
   ]
  },
  {
   "cell_type": "code",
   "execution_count": 39,
   "metadata": {
    "ExecuteTime": {
     "end_time": "2022-06-23T14:27:15.095262Z",
     "start_time": "2022-06-23T14:27:15.087270Z"
    }
   },
   "outputs": [
    {
     "name": "stdout",
     "output_type": "stream",
     "text": [
      "10\n",
      "3.1426\n",
      "(3+1j)\n"
     ]
    }
   ],
   "source": [
    "#Esto se parece bastante a C\n",
    "i = 0\n",
    "while i<len(lista1):\n",
    "    print (lista1[i])\n",
    "    i=i+1"
   ]
  },
  {
   "cell_type": "markdown",
   "metadata": {},
   "source": [
    "Para modificar los elementos de una lista podemos emplear los corchetes cuadrados (como si fuera un arreglo):"
   ]
  },
  {
   "cell_type": "code",
   "execution_count": 40,
   "metadata": {
    "ExecuteTime": {
     "end_time": "2022-06-23T14:28:19.988253Z",
     "start_time": "2022-06-23T14:28:19.983371Z"
    }
   },
   "outputs": [
    {
     "name": "stdout",
     "output_type": "stream",
     "text": [
      "[15, 3.1426, (3+1j)]\n"
     ]
    }
   ],
   "source": [
    "lista1[0] = 15\n",
    "\n",
    "print (lista1)"
   ]
  },
  {
   "cell_type": "markdown",
   "metadata": {},
   "source": [
    "**python** cuenta con métodos útiles para agregar, concatenar valores a las listas:\n",
    "\n",
    "    lista1.append(x)   \n",
    "\n",
    "agrega un valor al final de la lista.\n",
    "\n",
    "    lista1.extend(otra_lista)\n",
    "\n",
    "agrega todos los valores de *otra_lista* al final de lista1"
   ]
  },
  {
   "cell_type": "code",
   "execution_count": 42,
   "metadata": {
    "ExecuteTime": {
     "end_time": "2022-06-23T14:30:30.236436Z",
     "start_time": "2022-06-23T14:30:30.232687Z"
    }
   },
   "outputs": [
    {
     "name": "stdout",
     "output_type": "stream",
     "text": [
      "[15, 3.1426, (3+1j), 0.7774, (0.4+3j), 'Hola', 15, nan, 0.7774, (0.4+3j)]\n",
      "[15, 3.1426, (3+1j), 0.7774, (0.4+3j), 'Hola', 15, nan, 0.7774, (0.4+3j), ['Hola', 15, nan]]\n"
     ]
    }
   ],
   "source": [
    "lista1.append(0.7774)\n",
    "lista1.append(0.4+3j)\n",
    "\n",
    "print (lista1)\n",
    "lista_v =[]\n",
    "nueva_lista = [\"Hola\", lista1[0],float('nan')]\n",
    "lista1.append(nueva_lista)\n",
    "\n",
    "print (lista1)"
   ]
  },
  {
   "cell_type": "code",
   "execution_count": 44,
   "metadata": {
    "ExecuteTime": {
     "end_time": "2022-06-23T14:31:01.733118Z",
     "start_time": "2022-06-23T14:31:01.718249Z"
    }
   },
   "outputs": [
    {
     "name": "stdout",
     "output_type": "stream",
     "text": [
      "['Hola', 15, nan]\n"
     ]
    }
   ],
   "source": [
    "print (lista1[-1])"
   ]
  },
  {
   "cell_type": "markdown",
   "metadata": {},
   "source": [
    "Las listas pueden anidarse, es decir un elemento de una lista puede ser otra lista"
   ]
  },
  {
   "cell_type": "code",
   "execution_count": 45,
   "metadata": {
    "ExecuteTime": {
     "end_time": "2022-06-23T14:31:41.557073Z",
     "start_time": "2022-06-23T14:31:41.546173Z"
    }
   },
   "outputs": [
    {
     "name": "stdout",
     "output_type": "stream",
     "text": [
      "['Hola', [15, 3.1426, (3+1j), 0.7774, (0.4+3j), 'Hola', 15, nan, 0.7774, (0.4+3j), [...]], nan, [15, 3.1426, (3+1j), 0.7774, (0.4+3j), 'Hola', 15, nan, 0.7774, (0.4+3j), [...]]]\n"
     ]
    }
   ],
   "source": [
    "nueva_lista[1] = lista1\n",
    "nueva_lista.append(lista1)\n",
    "print (nueva_lista)"
   ]
  },
  {
   "cell_type": "markdown",
   "metadata": {},
   "source": [
    "Ejemplo: Recorrer una lista y desplegar el tipo de dato que contiene en cada posición.\n",
    "    \n",
    "Para este ejemplo demostraremos las funciones **enumerate** y **type**:"
   ]
  },
  {
   "cell_type": "code",
   "execution_count": 49,
   "metadata": {
    "ExecuteTime": {
     "end_time": "2022-06-23T14:34:12.772434Z",
     "start_time": "2022-06-23T14:34:12.752697Z"
    }
   },
   "outputs": [
    {
     "name": "stdout",
     "output_type": "stream",
     "text": [
      "['Hola', [15, 3.1426, (3+1j), 0.7774, (0.4+3j), 'Hola', 15, nan, 0.7774, (0.4+3j), [...]], nan, [15, 3.1426, (3+1j), 0.7774, (0.4+3j), 'Hola', 15, nan, 0.7774, (0.4+3j), [...]]]\n",
      "El elemento 0 es del tipo <class 'str'>\n",
      "El elemento 1 es del tipo <class 'list'>\n",
      "15\n",
      "3.1426\n",
      "(3+1j)\n",
      "0.7774\n",
      "(0.4+3j)\n",
      "Hola\n",
      "15\n",
      "nan\n",
      "0.7774\n",
      "(0.4+3j)\n",
      "['Hola', [15, 3.1426, (3+1j), 0.7774, (0.4+3j), 'Hola', 15, nan, 0.7774, (0.4+3j), [...]], nan, [15, 3.1426, (3+1j), 0.7774, (0.4+3j), 'Hola', 15, nan, 0.7774, (0.4+3j), [...]]]\n",
      "El elemento 2 es del tipo <class 'float'>\n",
      "El elemento 3 es del tipo <class 'list'>\n",
      "15\n",
      "3.1426\n",
      "(3+1j)\n",
      "0.7774\n",
      "(0.4+3j)\n",
      "Hola\n",
      "15\n",
      "nan\n",
      "0.7774\n",
      "(0.4+3j)\n",
      "['Hola', [15, 3.1426, (3+1j), 0.7774, (0.4+3j), 'Hola', 15, nan, 0.7774, (0.4+3j), [...]], nan, [15, 3.1426, (3+1j), 0.7774, (0.4+3j), 'Hola', 15, nan, 0.7774, (0.4+3j), [...]]]\n"
     ]
    }
   ],
   "source": [
    "print (nueva_lista)\n",
    "for indice, elemento in enumerate(nueva_lista):\n",
    "    print (\"El elemento {} es del tipo {}\".format(indice, type(elemento)))\n",
    "    if type(elemento) == list:\n",
    "        for indice2, elemento2 in enumerate(elemento):\n",
    "            print (elemento2)"
   ]
  },
  {
   "cell_type": "markdown",
   "metadata": {},
   "source": [
    "Aqui podemos notar que **enumerate** nos regresa el índice y el elemento de la lista en dos variables que podemos acceder dentro del ciclo.\n",
    "\n",
    "Por otro lado **type** nos regresa el tipo de dato de una variable."
   ]
  },
  {
   "cell_type": "markdown",
   "metadata": {},
   "source": [
    "#### Tuplas\n",
    "\n",
    "Las tuplas son similares a las listas con la diferencia de que no se pueden modificar sus elementos, es decir, son **inmutables**"
   ]
  },
  {
   "cell_type": "code",
   "execution_count": 50,
   "metadata": {
    "ExecuteTime": {
     "end_time": "2022-06-23T14:35:34.791348Z",
     "start_time": "2022-06-23T14:35:34.777343Z"
    }
   },
   "outputs": [
    {
     "name": "stdout",
     "output_type": "stream",
     "text": [
      "Tamaño de tupla1: 3\n",
      "Tamaño de tupla2: 0\n",
      "Podemos recorrer la tupla: \n",
      "\t 10\n",
      "\t 3.1426\n",
      "\t (3+1j)\n"
     ]
    },
    {
     "ename": "TypeError",
     "evalue": "'tuple' object does not support item assignment",
     "output_type": "error",
     "traceback": [
      "\u001b[0;31m---------------------------------------------------------------------------\u001b[0m",
      "\u001b[0;31mTypeError\u001b[0m                                 Traceback (most recent call last)",
      "\u001b[0;32m<ipython-input-50-be7a5e56986d>\u001b[0m in \u001b[0;36m<module>\u001b[0;34m\u001b[0m\n\u001b[1;32m     10\u001b[0m     \u001b[0mprint\u001b[0m \u001b[0;34m(\u001b[0m\u001b[0;34m\"\\t\"\u001b[0m\u001b[0;34m,\u001b[0m\u001b[0melemento\u001b[0m\u001b[0;34m)\u001b[0m\u001b[0;34m\u001b[0m\u001b[0;34m\u001b[0m\u001b[0m\n\u001b[1;32m     11\u001b[0m \u001b[0;31m#Esto sera un error\u001b[0m\u001b[0;34m\u001b[0m\u001b[0;34m\u001b[0m\u001b[0;34m\u001b[0m\u001b[0m\n\u001b[0;32m---> 12\u001b[0;31m \u001b[0mtupla1\u001b[0m\u001b[0;34m[\u001b[0m\u001b[0;36m0\u001b[0m\u001b[0;34m]\u001b[0m \u001b[0;34m=\u001b[0m \u001b[0;36m15\u001b[0m\u001b[0;34m\u001b[0m\u001b[0;34m\u001b[0m\u001b[0m\n\u001b[0m",
      "\u001b[0;31mTypeError\u001b[0m: 'tuple' object does not support item assignment"
     ]
    }
   ],
   "source": [
    "tupla1 =(10,3.1426,3+1j)   #Una tupla de valores\n",
    "tupla2 = ()            #Una tupla vacia\n",
    "\n",
    "#Con la función len() obtenemos el número de elementos\n",
    "print (\"Tamaño de tupla1:\", len(tupla1))\n",
    "print (\"Tamaño de tupla2:\", len(tupla2))\n",
    "print (\"Podemos recorrer la tupla: \")\n",
    "\n",
    "for elemento in tupla1:\n",
    "    print (\"\\t\",elemento)\n",
    "#Esto sera un error\n",
    "tupla1[0] = 15\n"
   ]
  },
  {
   "cell_type": "markdown",
   "metadata": {
    "ExecuteTime": {
     "end_time": "2021-06-13T18:13:41.163111Z",
     "start_time": "2021-06-13T18:13:41.154994Z"
    }
   },
   "source": [
    "##### Tuplas y la asignación múltiple\n",
    "\n",
    "En **python** se pueden hacer asignaciones a varias varialbes en una sola línea:"
   ]
  },
  {
   "cell_type": "code",
   "execution_count": 53,
   "metadata": {
    "ExecuteTime": {
     "end_time": "2022-06-23T14:37:13.238906Z",
     "start_time": "2022-06-23T14:37:13.204712Z"
    }
   },
   "outputs": [
    {
     "name": "stdout",
     "output_type": "stream",
     "text": [
      "4 5 -3\n"
     ]
    },
    {
     "data": {
      "text/plain": [
       "int"
      ]
     },
     "execution_count": 53,
     "metadata": {},
     "output_type": "execute_result"
    }
   ],
   "source": [
    "x,y,z = 4,5,-3\n",
    "print (x,y,z)\n",
    "type(x)"
   ]
  },
  {
   "cell_type": "markdown",
   "metadata": {},
   "source": [
    "Si solo se escribe una varible en la asignación entonces se construye una tupla conteniendo los valores:"
   ]
  },
  {
   "cell_type": "code",
   "execution_count": 52,
   "metadata": {
    "ExecuteTime": {
     "end_time": "2022-06-23T14:36:40.509128Z",
     "start_time": "2022-06-23T14:36:40.504043Z"
    }
   },
   "outputs": [
    {
     "name": "stdout",
     "output_type": "stream",
     "text": [
      "(4, 5, -3)\n"
     ]
    },
    {
     "data": {
      "text/plain": [
       "tuple"
      ]
     },
     "execution_count": 52,
     "metadata": {},
     "output_type": "execute_result"
    }
   ],
   "source": [
    "punto = 4,5,-3\n",
    "print (punto)\n",
    "type(punto)"
   ]
  },
  {
   "cell_type": "markdown",
   "metadata": {},
   "source": [
    "Una forma de emplear esta característica es creando funciones que regresen múltiples valores:"
   ]
  },
  {
   "cell_type": "code",
   "execution_count": 54,
   "metadata": {
    "ExecuteTime": {
     "end_time": "2022-06-23T14:37:49.926097Z",
     "start_time": "2022-06-23T14:37:49.901205Z"
    }
   },
   "outputs": [
    {
     "data": {
      "text/plain": [
       "((1, 12), 1, 6)"
      ]
     },
     "execution_count": 54,
     "metadata": {},
     "output_type": "execute_result"
    }
   ],
   "source": [
    "def my_funcion(x,y):\n",
    "    return x-y, x*y\n",
    "\n",
    "\n",
    "res1, res2 = my_funcion(3,2)\n",
    "res = my_funcion (4,3)\n",
    "res, res1,res2"
   ]
  },
  {
   "cell_type": "markdown",
   "metadata": {},
   "source": [
    "#### Diccionarios\n",
    "\n",
    "Los diccionarios permiten almacenar un conjunto de datos etiquetados por un valor llamado **llave**:"
   ]
  },
  {
   "cell_type": "code",
   "execution_count": 56,
   "metadata": {
    "ExecuteTime": {
     "end_time": "2022-06-23T14:40:34.887892Z",
     "start_time": "2022-06-23T14:40:34.865903Z"
    }
   },
   "outputs": [
    {
     "name": "stdout",
     "output_type": "stream",
     "text": [
      "Llaves del diccionario: dict_keys(['Nombre', 'Edad', 'Calificaciones'])\n",
      "{'Nombre': 'David', 'Edad': 34, 'Calificaciones': (8.0, 4.0, 3.0, 10.0, 8.0)}\n",
      "34\n",
      "4000\n",
      "dict_keys(['Nombre', 'Edad', 'Calificaciones', 0])\n"
     ]
    }
   ],
   "source": [
    "persona = dict()\n",
    "persona = {}\n",
    "\n",
    "persona [\"Nombre\"] = \"David\"\n",
    "persona [\"Edad\"] =34\n",
    "persona [\"Calificaciones\"] = (8.0,4.0,3.0,10.0,8.0)\n",
    "\n",
    "print (\"Llaves del diccionario:\", persona.keys())\n",
    "print (persona)\n",
    "\n",
    "xx =persona[\"Edad\"]\n",
    "print (xx)\n",
    "persona[0] = 4000\n",
    "print (persona[0])\n",
    "print (persona.keys())"
   ]
  },
  {
   "cell_type": "markdown",
   "metadata": {},
   "source": [
    "Cuando utilizamos un diccionario en un ciclo for se itera sobre las llaves:"
   ]
  },
  {
   "cell_type": "code",
   "execution_count": 57,
   "metadata": {
    "ExecuteTime": {
     "end_time": "2022-06-23T14:41:07.527158Z",
     "start_time": "2022-06-23T14:41:07.518493Z"
    }
   },
   "outputs": [
    {
     "name": "stdout",
     "output_type": "stream",
     "text": [
      "Nombre David\n",
      "Edad 34\n",
      "Calificaciones (8.0, 4.0, 3.0, 10.0, 8.0)\n",
      "0 4000\n"
     ]
    }
   ],
   "source": [
    "for i in persona:\n",
    "    print (i, persona[i])"
   ]
  },
  {
   "cell_type": "markdown",
   "metadata": {},
   "source": [
    "Otra alternativa para acceder tanto al valor como a la llave dentro de un ciclo for es usar la función items"
   ]
  },
  {
   "cell_type": "code",
   "execution_count": 58,
   "metadata": {
    "ExecuteTime": {
     "end_time": "2022-06-23T14:41:59.290758Z",
     "start_time": "2022-06-23T14:41:59.270419Z"
    }
   },
   "outputs": [
    {
     "name": "stdout",
     "output_type": "stream",
     "text": [
      "Nombre David\n",
      "Edad 34\n",
      "Calificaciones (8.0, 4.0, 3.0, 10.0, 8.0)\n",
      "0 4000\n"
     ]
    }
   ],
   "source": [
    "for llave, valor in persona.items():\n",
    "    print (llave, valor)"
   ]
  },
  {
   "cell_type": "markdown",
   "metadata": {},
   "source": [
    "## Slicing (Rebanado)\n",
    "\n",
    "Una de las características mas empleadas en python es el uso de rangos dentro del operador de indexado. A esto se le conoce como **slicing**.\n",
    "\n",
    "La notación es similar a la empleada en la función range:\n",
    "\n",
    "    [inicio:fin:incremento]\n",
    "    \n",
    "Recordemos que range nos permite generar una lista de números, "
   ]
  },
  {
   "cell_type": "code",
   "execution_count": 59,
   "metadata": {
    "ExecuteTime": {
     "end_time": "2022-06-23T14:43:39.417225Z",
     "start_time": "2022-06-23T14:43:39.413440Z"
    }
   },
   "outputs": [
    {
     "name": "stdout",
     "output_type": "stream",
     "text": [
      "[-10, -9, -8, -7, -6, -5, -4, -3, -2, -1, 0, 1, 2, 3, 4, 5, 6, 7, 8, 9]\n"
     ]
    }
   ],
   "source": [
    "mylist = []\n",
    "\n",
    "for i in range(-10,10,1):    #Inicio= 10, Fin = 10 (sin incluirlo), Incremento en 1\n",
    "    mylist.append(i)\n",
    "    \n",
    "print (mylist)"
   ]
  },
  {
   "cell_type": "markdown",
   "metadata": {},
   "source": [
    "Podemos accesar los elementos de {mylist} usando una rebanada como indice. Ejemplo los primeros 5 números de la lista:"
   ]
  },
  {
   "cell_type": "code",
   "execution_count": 60,
   "metadata": {
    "ExecuteTime": {
     "end_time": "2022-06-23T14:44:38.479728Z",
     "start_time": "2022-06-23T14:44:38.456256Z"
    }
   },
   "outputs": [
    {
     "name": "stdout",
     "output_type": "stream",
     "text": [
      "[-10, -9, -8, -7, -6]\n",
      "[-10, -9, -8, -7, -6]\n",
      "[-30, -29, -28, -27, -26, -5, -4, -3, -2, -1, 0, 1, 2, 3, 4, 5, 6, 7, 8, 9]\n"
     ]
    }
   ],
   "source": [
    "print(mylist[0:5])\n",
    "print(mylist[:5]) #Son equivalentes, por defecto si no se envia un valor de inicio se toma como 0\n",
    "\n",
    "mylist[0:5] = [-30,-29,-28, -27,-26]\n",
    "print (mylist)"
   ]
  },
  {
   "cell_type": "markdown",
   "metadata": {},
   "source": [
    "Todos los elementos en posiciones pares:"
   ]
  },
  {
   "cell_type": "code",
   "execution_count": 64,
   "metadata": {
    "ExecuteTime": {
     "end_time": "2022-06-23T14:45:38.075928Z",
     "start_time": "2022-06-23T14:45:38.064313Z"
    }
   },
   "outputs": [
    {
     "name": "stdout",
     "output_type": "stream",
     "text": [
      "[-30, -28, -26, -4, -2, 0, 2, 4, 6, 8]\n"
     ]
    }
   ],
   "source": [
    "print (mylist[::2])                #Si fin no tiene un valor por defecto se llega al final de la lista"
   ]
  },
  {
   "cell_type": "markdown",
   "metadata": {},
   "source": [
    "Los valores de inicio/fin pueden ser negativos. En este caso **-1** es el último elemento de la lista, **-2** es en penúltimo y asi sucesivamente.\n",
    "\n",
    "Ejemplo: Los últimos 5 elementos de la lista"
   ]
  },
  {
   "cell_type": "code",
   "execution_count": 65,
   "metadata": {
    "ExecuteTime": {
     "end_time": "2022-06-23T14:46:25.371985Z",
     "start_time": "2022-06-23T14:46:25.364901Z"
    }
   },
   "outputs": [
    {
     "name": "stdout",
     "output_type": "stream",
     "text": [
      "[5, 6, 7, 8, 9]\n"
     ]
    }
   ],
   "source": [
    "print (mylist[-5::])"
   ]
  },
  {
   "cell_type": "markdown",
   "metadata": {},
   "source": [
    "El incremento tambien puede ser negativo, en ese caso se recorren los elementos en sentido contrario:"
   ]
  },
  {
   "cell_type": "code",
   "execution_count": 66,
   "metadata": {
    "ExecuteTime": {
     "end_time": "2022-06-23T14:46:49.527760Z",
     "start_time": "2022-06-23T14:46:49.509384Z"
    }
   },
   "outputs": [
    {
     "name": "stdout",
     "output_type": "stream",
     "text": [
      "[9, 8, 7, 6, 5, 4, 3, 2, 1, 0, -1, -2, -3, -4, -5, -26, -27, -28, -29, -30]\n"
     ]
    }
   ],
   "source": [
    "print (mylist[-1::-1])"
   ]
  },
  {
   "cell_type": "markdown",
   "metadata": {},
   "source": [
    "O bien solo enviar el incremento"
   ]
  },
  {
   "cell_type": "code",
   "execution_count": 67,
   "metadata": {
    "ExecuteTime": {
     "end_time": "2022-06-23T14:47:29.750491Z",
     "start_time": "2022-06-23T14:47:29.727986Z"
    }
   },
   "outputs": [
    {
     "name": "stdout",
     "output_type": "stream",
     "text": [
      "[9, 8, 7, 6, 5, 4, 3, 2, 1, 0, -1, -2, -3, -4, -5, -26, -27, -28, -29, -30]\n",
      "!!skcoR scisyhportsA\n"
     ]
    }
   ],
   "source": [
    "print(mylist[::-1])\n",
    "print(cadena2[::-1])"
   ]
  },
  {
   "cell_type": "markdown",
   "metadata": {},
   "source": [
    "## Comprensiones de Lista\n",
    "\n",
    "Es una forma de crear una lista con valores u operaciones sobre los valores de otro elemento itrable. Por ejemplo si queremos una lista con los cubos de los números del 1 al 20 podemos escrbir el siguiente código:"
   ]
  },
  {
   "cell_type": "code",
   "execution_count": 68,
   "metadata": {
    "ExecuteTime": {
     "end_time": "2022-06-23T14:49:16.286823Z",
     "start_time": "2022-06-23T14:49:16.265808Z"
    }
   },
   "outputs": [
    {
     "name": "stdout",
     "output_type": "stream",
     "text": [
      "[1, 8, 27, 64, 125, 216, 343, 512, 729, 1000, 1331, 1728, 2197, 2744, 3375, 4096, 4913, 5832, 6859, 8000]\n"
     ]
    }
   ],
   "source": [
    "cubos = []\n",
    "\n",
    "for i in range(1,21):\n",
    "    cubos.append(i**3)\n",
    "\n",
    "print (cubos)"
   ]
  },
  {
   "cell_type": "markdown",
   "metadata": {},
   "source": [
    "Estas 3 líneas de código pueden ser reemplazadas por la comprensión de lista:"
   ]
  },
  {
   "cell_type": "code",
   "execution_count": 69,
   "metadata": {
    "ExecuteTime": {
     "end_time": "2022-06-23T14:50:00.944267Z",
     "start_time": "2022-06-23T14:50:00.928275Z"
    }
   },
   "outputs": [
    {
     "name": "stdout",
     "output_type": "stream",
     "text": [
      "[1, 8, 27, 64, 125, 216, 343, 512, 729, 1000, 1331, 1728, 2197, 2744, 3375, 4096, 4913, 5832, 6859, 8000]\n"
     ]
    }
   ],
   "source": [
    "cubos2 = [i**3 for i in range (1,21) ]\n",
    "print (cubos2)"
   ]
  },
  {
   "cell_type": "markdown",
   "metadata": {},
   "source": [
    "Las comprensiones de lista aceptan una condicional que nos permite seleccionar en base a una expresión lógica los valores dentro de la lista creada. Ejemplo, crear una lista con los cubos de los números primos del 1 al 20:"
   ]
  },
  {
   "cell_type": "code",
   "execution_count": 72,
   "metadata": {
    "ExecuteTime": {
     "end_time": "2022-06-23T14:51:50.935333Z",
     "start_time": "2022-06-23T14:51:50.909992Z"
    }
   },
   "outputs": [
    {
     "name": "stdout",
     "output_type": "stream",
     "text": [
      "[27, 125, 343, 1331, 2197, 4913, 6859]\n"
     ]
    }
   ],
   "source": [
    "# La función del notebook 01\n",
    "\n",
    "def es_primo (numero):\n",
    "    if numero == 0 or numero == 1 or numero % 2 == 0:\n",
    "        return False\n",
    "    busca_mas = int(numero**0.5) + 1\n",
    "    for i in range (3, busca_mas, 2):\n",
    "        if numero % i == 0:\n",
    "            return False\n",
    "    return True\n",
    "\n",
    "cubos_primos = [i**3 for i in range (1,21) if es_primo(i)]\n",
    "print (cubos_primos)"
   ]
  },
  {
   "cell_type": "markdown",
   "metadata": {},
   "source": [
    "El ciclo **for** equivalente de esta comprensión de lista es:"
   ]
  },
  {
   "cell_type": "code",
   "execution_count": null,
   "metadata": {
    "ExecuteTime": {
     "end_time": "2022-06-23T13:07:28.676376Z",
     "start_time": "2022-06-23T13:07:28.672625Z"
    }
   },
   "outputs": [],
   "source": [
    "cubos_primos2 = []\n",
    "\n",
    "for i in range(1,21):\n",
    "    if es_primo (i):\n",
    "        cubos_primos2.append(i**3)\n",
    "\n",
    "print (cubos_primos2)"
   ]
  },
  {
   "cell_type": "markdown",
   "metadata": {},
   "source": [
    "## Operadores Especiales\n",
    "\n",
    "En esta categoria entran operadores que se utilizan para comparación entre los tipos de datos o entre tipos de datos compuestos\n",
    "\n",
    "***Operador is:*** Compara si dos nombres de variable se refieren al mismo objeto"
   ]
  },
  {
   "cell_type": "code",
   "execution_count": 73,
   "metadata": {
    "ExecuteTime": {
     "end_time": "2022-06-23T14:53:35.428351Z",
     "start_time": "2022-06-23T14:53:35.422778Z"
    }
   },
   "outputs": [
    {
     "name": "stdout",
     "output_type": "stream",
     "text": [
      "True\n",
      "False\n",
      "[27, 125, 343, 1331, 2197, 4913, 6859]\n",
      "[27, 125, 343, 1331, 2197, 4913, 6859]\n",
      "['Fulanito', 125, 343, 1331, 2197, 4913, 6859]\n",
      "[27, 125, 343, 1331, 2197, 4913, 6859]\n"
     ]
    }
   ],
   "source": [
    "lista3 = cubos_primos\n",
    "lista4 = list(cubos_primos)      #Esto crea una variable en un espacio de memoria diferente\n",
    "\n",
    "print (lista3 is cubos_primos)\n",
    "print (lista4 is cubos_primos)\n",
    "\n",
    "print (lista3)\n",
    "print (lista4)\n",
    "\n",
    "lista3 [0] = \"Fulanito\"\n",
    "\n",
    "print (cubos_primos)\n",
    "print (lista4)"
   ]
  },
  {
   "cell_type": "markdown",
   "metadata": {},
   "source": [
    "***Operador in:*** Recupera cada valor en un arreglo, lista o tupla. Ejemplo si queremos buscar si existe una llave en un diccionario se puede hacer lo siguiente:"
   ]
  },
  {
   "cell_type": "code",
   "execution_count": 76,
   "metadata": {
    "ExecuteTime": {
     "end_time": "2022-06-23T14:55:52.135724Z",
     "start_time": "2022-06-23T14:55:52.127284Z"
    }
   },
   "outputs": [
    {
     "name": "stdout",
     "output_type": "stream",
     "text": [
      "True\n",
      "False\n",
      "False\n"
     ]
    }
   ],
   "source": [
    "print (\"Nombre\" in persona.keys())\n",
    "print (\"Ingreso\" in persona.keys())\n",
    "print (27 in lista3)"
   ]
  },
  {
   "cell_type": "markdown",
   "metadata": {},
   "source": [
    "**Operador type**: Regresa el tipo de dato (simple o compuesto) de una variable. El siguiente código muestra el tipo de datos de los elementos en *nueva_lista*:"
   ]
  },
  {
   "cell_type": "code",
   "execution_count": 81,
   "metadata": {
    "ExecuteTime": {
     "end_time": "2022-06-23T14:57:32.169361Z",
     "start_time": "2022-06-23T14:57:32.157411Z"
    },
    "scrolled": true
   },
   "outputs": [
    {
     "name": "stdout",
     "output_type": "stream",
     "text": [
      "<class 'str'>\n",
      "<class 'list'>\n",
      "<class 'float'>\n",
      "<class 'list'>\n"
     ]
    },
    {
     "data": {
      "text/plain": [
       "range"
      ]
     },
     "execution_count": 81,
     "metadata": {},
     "output_type": "execute_result"
    }
   ],
   "source": [
    "for el in nueva_lista:\n",
    "    print (type(el))\n",
    "nueva_lista\n",
    "\n",
    "type (range(-3,3))"
   ]
  },
  {
   "cell_type": "markdown",
   "metadata": {},
   "source": [
    "### El tipo de datos None\n",
    "\n",
    "La palabra reservada **None** se utiliza para indicar una referencia a ningún lugar en la memoria o una variable vacia."
   ]
  },
  {
   "cell_type": "code",
   "execution_count": 82,
   "metadata": {
    "ExecuteTime": {
     "end_time": "2022-06-23T14:58:13.152384Z",
     "start_time": "2022-06-23T14:58:13.148932Z"
    }
   },
   "outputs": [],
   "source": [
    "nada = None"
   ]
  },
  {
   "cell_type": "markdown",
   "metadata": {},
   "source": [
    "Para preguntar se una variable esta vacía se utiliza el operador is"
   ]
  },
  {
   "cell_type": "code",
   "execution_count": 86,
   "metadata": {
    "ExecuteTime": {
     "end_time": "2022-06-23T14:58:33.950094Z",
     "start_time": "2022-06-23T14:58:33.941534Z"
    }
   },
   "outputs": [
    {
     "name": "stdout",
     "output_type": "stream",
     "text": [
      "True\n"
     ]
    }
   ],
   "source": [
    "print (nada is None)"
   ]
  },
  {
   "cell_type": "markdown",
   "metadata": {},
   "source": [
    "Este tipo de datos se puede emplear cuando queremos asignar una variable pero no darle un valor particular. Por ejemplo:"
   ]
  },
  {
   "cell_type": "code",
   "execution_count": 89,
   "metadata": {
    "ExecuteTime": {
     "end_time": "2022-06-23T14:59:18.187825Z",
     "start_time": "2022-06-23T14:59:18.182444Z"
    }
   },
   "outputs": [
    {
     "name": "stdout",
     "output_type": "stream",
     "text": [
      "20.0 [1, 2, 3, 4, 5, 6, 7, 8, 9, 10, 11, 12, 13, 14, 15, 16, 17, 18, 19, 20, 21, 22, 23, 24, 25, 26, 27, 28, 29, 30, 31, 32, 33, 34, 35, 36, 37, 38, 39]\n"
     ]
    }
   ],
   "source": [
    "promedio = None\n",
    "n = 0\n",
    "\n",
    "for i in range(1,40):\n",
    "    if promedio is None:\n",
    "        promedio = i\n",
    "        lista = [i]\n",
    "    else:\n",
    "        promedio +=i\n",
    "        lista.append(i)\n",
    "    n+=1\n",
    "promedio /=n\n",
    "\n",
    "print (promedio, lista)"
   ]
  },
  {
   "cell_type": "markdown",
   "metadata": {},
   "source": [
    "## Manejo de Excepciones\n",
    "\n",
    "Las excepciones nos permiten preparar nuestro programa para manejar alguna condición de error sin que la ejecución se detenga.  Esto se logra con las palabras reservadas **try** y **except**. Por ejemplo supongamos que queremos abrir un archivo que no existe:"
   ]
  },
  {
   "cell_type": "code",
   "execution_count": 90,
   "metadata": {
    "ExecuteTime": {
     "end_time": "2022-06-23T15:00:05.048423Z",
     "start_time": "2022-06-23T15:00:05.028728Z"
    }
   },
   "outputs": [
    {
     "ename": "FileNotFoundError",
     "evalue": "[Errno 2] No such file or directory: 'practicas1.txt'",
     "output_type": "error",
     "traceback": [
      "\u001b[0;31m---------------------------------------------------------------------------\u001b[0m",
      "\u001b[0;31mFileNotFoundError\u001b[0m                         Traceback (most recent call last)",
      "\u001b[0;32m<ipython-input-90-ee62ff36b61d>\u001b[0m in \u001b[0;36m<module>\u001b[0;34m\u001b[0m\n\u001b[0;32m----> 1\u001b[0;31m \u001b[0marchivo1\u001b[0m \u001b[0;34m=\u001b[0m \u001b[0mopen\u001b[0m\u001b[0;34m(\u001b[0m\u001b[0;34m\"practicas1.txt\"\u001b[0m\u001b[0;34m,\u001b[0m \u001b[0;34m\"r\"\u001b[0m\u001b[0;34m)\u001b[0m\u001b[0;34m\u001b[0m\u001b[0;34m\u001b[0m\u001b[0m\n\u001b[0m",
      "\u001b[0;31mFileNotFoundError\u001b[0m: [Errno 2] No such file or directory: 'practicas1.txt'"
     ]
    }
   ],
   "source": [
    "archivo1 = open(\"practicas1.txt\", \"r\")"
   ]
  },
  {
   "cell_type": "code",
   "execution_count": 91,
   "metadata": {
    "ExecuteTime": {
     "end_time": "2022-06-23T15:00:44.894774Z",
     "start_time": "2022-06-23T15:00:44.888611Z"
    }
   },
   "outputs": [
    {
     "name": "stdout",
     "output_type": "stream",
     "text": [
      "Sucedio un error y el archivo no fue abierto\n"
     ]
    }
   ],
   "source": [
    "try:\n",
    "    archivo1 = open(\"practicas1.txt\", \"r\")\n",
    "except:\n",
    "    print (\"Sucedio un error y el archivo no fue abierto\")"
   ]
  },
  {
   "cell_type": "markdown",
   "metadata": {},
   "source": [
    "Existen varios tipos de excepciones, despues de **except** podemos definir las acciones para cada tipo de error"
   ]
  },
  {
   "cell_type": "code",
   "execution_count": 98,
   "metadata": {
    "ExecuteTime": {
     "end_time": "2022-06-23T15:02:52.314897Z",
     "start_time": "2022-06-23T15:02:52.310938Z"
    }
   },
   "outputs": [
    {
     "name": "stdout",
     "output_type": "stream",
     "text": [
      "nan\n"
     ]
    }
   ],
   "source": [
    "x = 10\n",
    "y = float(\"nan\")\n",
    "\n",
    "try:\n",
    "    a = x/y\n",
    "    print (a)\n",
    "    #b = x2/y\n",
    "except ZeroDivisionError:\n",
    "    print(\"Error. El denominador es 0\")\n",
    "except TypeError:\n",
    "    print(\"Error. Alguno de los operandos no soporta la division\")\n",
    "except NameError:\n",
    "    print(\"Error. Variable no definida\")\n",
    "except:\n",
    "    print(\"Error. Desconocido\")\n",
    "\n"
   ]
  },
  {
   "cell_type": "markdown",
   "metadata": {},
   "source": [
    "Podemos agregar un else al bloque try-except. El código del else se ejecuta cuando no sucede ninguna excepción:"
   ]
  },
  {
   "cell_type": "code",
   "execution_count": 100,
   "metadata": {
    "ExecuteTime": {
     "end_time": "2022-06-23T15:03:46.392551Z",
     "start_time": "2022-06-23T15:03:46.373404Z"
    }
   },
   "outputs": [
    {
     "name": "stdout",
     "output_type": "stream",
     "text": [
      "Error. Alguno de los operandos no soporta la division\n"
     ]
    }
   ],
   "source": [
    "x = 10\n",
    "y = \"a\"\n",
    "\n",
    "try:\n",
    "    a = x/y\n",
    "    #b = x2/y\n",
    "except ZeroDivisionError:\n",
    "    print(\"Error. El denominador es 0\")\n",
    "except TypeError:\n",
    "    print(\"Error. Alguno de los operandos no soporta la division\")\n",
    "except NameError:\n",
    "    print(\"Error. Variable no definida\")\n",
    "except:\n",
    "    print(\"Error. Desconocido\")\n",
    "else:\n",
    "    print(\"La operación es correcta.\")\n",
    "    print (a)\n"
   ]
  },
  {
   "cell_type": "markdown",
   "metadata": {},
   "source": [
    "Y la instrucción **finally** define un conjunto de instrucciones que se ejecutarán sin importar si hubo una excepción o no:"
   ]
  },
  {
   "cell_type": "code",
   "execution_count": 103,
   "metadata": {
    "ExecuteTime": {
     "end_time": "2022-06-23T15:04:37.378399Z",
     "start_time": "2022-06-23T15:04:37.370503Z"
    }
   },
   "outputs": [
    {
     "name": "stdout",
     "output_type": "stream",
     "text": [
      "Error. Alguno de los operandos no soporta la division\n",
      "2.5\n"
     ]
    }
   ],
   "source": [
    "x = 10\n",
    "y = \"b\"\n",
    "\n",
    "try:\n",
    "    a = x/y\n",
    "    #b = x2/y\n",
    "except ZeroDivisionError:\n",
    "    print(\"Error. El denominador es 0\")\n",
    "except TypeError:\n",
    "    print(\"Error. Alguno de los operandos no soporta la division\")\n",
    "except NameError:\n",
    "    print(\"Error. Variable no definida\")\n",
    "except:\n",
    "    print(\"Error. Desconocido\")\n",
    "else:\n",
    "    print(\"La operación es correcta.\")\n",
    "finally:\n",
    "    print (a)"
   ]
  },
  {
   "cell_type": "markdown",
   "metadata": {},
   "source": [
    "### La instrucción que no hace nada (pass)\n",
    "\n",
    "Con pass podemos decirle al programa que no haga nada en caso de una excepción:"
   ]
  },
  {
   "cell_type": "code",
   "execution_count": null,
   "metadata": {
    "ExecuteTime": {
     "end_time": "2022-06-23T13:07:29.325994Z",
     "start_time": "2022-06-23T13:07:29.322659Z"
    }
   },
   "outputs": [],
   "source": [
    "\n",
    "x = 10\n",
    "y = 0\n",
    "\n",
    "try:\n",
    "    a = x/y\n",
    "    #b = x2/y\n",
    "except ZeroDivisionError:\n",
    "    pass\n",
    "except TypeError:\n",
    "    print(\"Error. Alguno de los operandos no soporta la division\")\n",
    "except NameError:\n",
    "    print(\"Error. Variable no definida\")\n",
    "except:\n",
    "    print(\"Error. Desconocido\")\n",
    "else:\n",
    "    print(\"La operación es correcta.\")\n",
    "finally:\n",
    "    print (a)"
   ]
  },
  {
   "cell_type": "markdown",
   "metadata": {},
   "source": [
    "### Liberar memoria (del)\n",
    "\n",
    "Con **del** podemos liberar una variable. Es decir a partir de esta instrucción la variable no estará definida dentro del programa:"
   ]
  },
  {
   "cell_type": "code",
   "execution_count": 105,
   "metadata": {
    "ExecuteTime": {
     "end_time": "2022-06-23T15:06:02.881581Z",
     "start_time": "2022-06-23T15:06:02.870437Z"
    }
   },
   "outputs": [
    {
     "name": "stdout",
     "output_type": "stream",
     "text": [
      "Error. Alguno de los operandos no soporta la division\n"
     ]
    },
    {
     "ename": "NameError",
     "evalue": "name 'a' is not defined",
     "output_type": "error",
     "traceback": [
      "\u001b[0;31m---------------------------------------------------------------------------\u001b[0m",
      "\u001b[0;31mNameError\u001b[0m                                 Traceback (most recent call last)",
      "\u001b[0;32m<ipython-input-105-483efc9c93f8>\u001b[0m in \u001b[0;36m<module>\u001b[0;34m\u001b[0m\n\u001b[1;32m     21\u001b[0m     \u001b[0mprint\u001b[0m\u001b[0;34m(\u001b[0m\u001b[0;34m\"La operación es correcta.\"\u001b[0m\u001b[0;34m)\u001b[0m\u001b[0;34m\u001b[0m\u001b[0;34m\u001b[0m\u001b[0m\n\u001b[1;32m     22\u001b[0m \u001b[0;32mfinally\u001b[0m\u001b[0;34m:\u001b[0m\u001b[0;34m\u001b[0m\u001b[0;34m\u001b[0m\u001b[0m\n\u001b[0;32m---> 23\u001b[0;31m     \u001b[0mprint\u001b[0m \u001b[0;34m(\u001b[0m\u001b[0ma\u001b[0m\u001b[0;34m)\u001b[0m\u001b[0;34m\u001b[0m\u001b[0;34m\u001b[0m\u001b[0m\n\u001b[0m",
      "\u001b[0;31mNameError\u001b[0m: name 'a' is not defined"
     ]
    }
   ],
   "source": [
    "x = 10\n",
    "y = \"a\"\n",
    "\n",
    "try:\n",
    "    del a\n",
    "except NameError:\n",
    "    pass\n",
    "\n",
    "try:\n",
    "    a = x/y\n",
    "    #b = x2/y\n",
    "except ZeroDivisionError:\n",
    "    pass\n",
    "except TypeError:\n",
    "    print(\"Error. Alguno de los operandos no soporta la division\")\n",
    "except NameError:\n",
    "    print(\"Error. Variable no definida\")\n",
    "except:\n",
    "    print(\"Error. Desconocido\")\n",
    "else:\n",
    "    print(\"La operación es correcta.\")\n",
    "finally:\n",
    "    print (a)"
   ]
  },
  {
   "cell_type": "markdown",
   "metadata": {},
   "source": [
    "## Funciones Lambda \n",
    "\n",
    "Las funciones lambda permiten definir funciones que realizan operaciones sencillas:"
   ]
  },
  {
   "cell_type": "code",
   "execution_count": null,
   "metadata": {
    "ExecuteTime": {
     "end_time": "2022-06-23T13:07:29.429545Z",
     "start_time": "2022-06-23T13:07:29.424756Z"
    }
   },
   "outputs": [],
   "source": [
    "def cuadrado (x):\n",
    "    return x**2\n",
    "\n",
    "l_cuad = lambda x: x**2\n",
    "\n",
    "for i in range(10):\n",
    "    print (l_cuad(i))"
   ]
  },
  {
   "cell_type": "markdown",
   "metadata": {},
   "source": [
    "Las funciones lambda pueden emplearse para \"fijar\" el valor uno o varios parámetros de una función:"
   ]
  },
  {
   "cell_type": "code",
   "execution_count": null,
   "metadata": {
    "ExecuteTime": {
     "end_time": "2022-06-23T13:07:29.478250Z",
     "start_time": "2022-06-23T13:07:29.468798Z"
    }
   },
   "outputs": [],
   "source": [
    "def potencia (x,y):\n",
    "    return x**y\n",
    "\n",
    "l_cuad = lambda x: potencia(x,2)\n",
    "l_cube = lambda x: potencia(x,3)\n",
    "l_sqrt = lambda x: potencia(x,0.5)\n",
    "\n",
    "for i in range(10):\n",
    "    print (l_cuad(i), l_cube(i), l_sqrt(i))"
   ]
  },
  {
   "cell_type": "markdown",
   "metadata": {},
   "source": [
    "Una función lambda puede recibir dos o más parametros:"
   ]
  },
  {
   "cell_type": "code",
   "execution_count": null,
   "metadata": {
    "ExecuteTime": {
     "end_time": "2022-06-23T13:07:29.518656Z",
     "start_time": "2022-06-23T13:07:29.515598Z"
    }
   },
   "outputs": [],
   "source": [
    "l_dist = lambda x,y,z: l_sqrt(l_cuad(x)+l_cuad(y)+l_cuad(z))\n",
    "\n",
    "print (l_dist (3,4,-10))"
   ]
  },
  {
   "cell_type": "markdown",
   "metadata": {},
   "source": [
    "## Argumentos Variables y Extras\n",
    "\n",
    "Consideremos la función:"
   ]
  },
  {
   "cell_type": "code",
   "execution_count": 110,
   "metadata": {
    "ExecuteTime": {
     "end_time": "2022-06-23T15:09:08.997212Z",
     "start_time": "2022-06-23T15:09:08.970204Z"
    }
   },
   "outputs": [
    {
     "data": {
      "text/plain": [
       "10"
      ]
     },
     "execution_count": 110,
     "metadata": {},
     "output_type": "execute_result"
    }
   ],
   "source": [
    "def norma_p (*args, p=2):\n",
    "    \"\"\"Calcula la norma p para un vector de n entradas. \n",
    "    \n",
    "       d =(|x_1|^p + |x_2|^p +... +|x_n|^p)^(1/p)\n",
    "       \n",
    "       si p es infinito, se regresa el valor maximo de las entradas.\n",
    "       \n",
    "       Use p=None para obtener la norma infinita\n",
    "    \n",
    "    \"\"\"\n",
    "    d = 0\n",
    "    if p is None:\n",
    "        return max([abs(x) for x in args ])\n",
    "    for i in args:\n",
    "        d+=abs(i)**p\n",
    "    d**=1/p\n",
    "    \n",
    "    return d\n",
    "\n",
    "norma_p (3,-4,5,-6,7,10,3,2, p=None)"
   ]
  },
  {
   "cell_type": "markdown",
   "metadata": {},
   "source": [
    "En este caso **\\*args** contiene una tupla con todos los parámetros anónimos que fueron enviados a la función. \n",
    "\n",
    "Para los parámetros opcionales se puede usar la palabra reservada **\\*\\*kwargs**. La cual representa un diccionario que contiene como llave el nombre del parámetro opcional:"
   ]
  },
  {
   "cell_type": "code",
   "execution_count": 114,
   "metadata": {
    "ExecuteTime": {
     "end_time": "2022-06-23T15:11:43.633052Z",
     "start_time": "2022-06-23T15:11:43.561046Z"
    }
   },
   "outputs": [
    {
     "data": {
      "text/plain": [
       "3.8729833462074166"
      ]
     },
     "execution_count": 114,
     "metadata": {},
     "output_type": "execute_result"
    }
   ],
   "source": [
    "def norma_p (*args, scale = 1, **kwargs):\n",
    "    \"\"\"Calcula la norma p para un vector de n entradas. \n",
    "    \n",
    "       d =(|x_1|^p + |x_2|^p +... +|x_n|^p)^(1/p)\n",
    "       \n",
    "       si p es infinito, se regresa el valor maximo de las entradas.\n",
    "       \n",
    "       Use p=None para obtener la norma infinita\n",
    "    \n",
    "    \"\"\"\n",
    "    if \"p\" in kwargs.keys():\n",
    "        p = kwargs[\"p\"]\n",
    "        print (p)\n",
    "    else:\n",
    "        p=2\n",
    "    \n",
    "    d = 0\n",
    "    if p is None:\n",
    "        return max([abs(x) for x in args ])/scale\n",
    "    for i in args:\n",
    "        d+=abs(i)**p\n",
    "    d**=1/p\n",
    "    \n",
    "    return d/scale\n",
    "\n",
    "norma_p (3,-4,5,-6,7, scale = 3)"
   ]
  },
  {
   "cell_type": "markdown",
   "metadata": {},
   "source": [
    "## Programación Orientada a Objetos (OOP)\n",
    "\n",
    "Recordemos que en **python** toda variable es un objeto. En este caso declaramos un objeto **i** de la clase **int**"
   ]
  },
  {
   "cell_type": "code",
   "execution_count": 117,
   "metadata": {
    "ExecuteTime": {
     "end_time": "2022-06-23T15:13:02.301929Z",
     "start_time": "2022-06-23T15:13:02.292987Z"
    }
   },
   "outputs": [
    {
     "data": {
      "text/plain": [
       "34"
      ]
     },
     "execution_count": 117,
     "metadata": {},
     "output_type": "execute_result"
    }
   ],
   "source": [
    "i = 10452094855\n",
    "i.bit_length()"
   ]
  },
  {
   "cell_type": "markdown",
   "metadata": {},
   "source": [
    "Podemos definir nuestros propias clases con la palabra reservada **class**"
   ]
  },
  {
   "cell_type": "code",
   "execution_count": null,
   "metadata": {
    "ExecuteTime": {
     "end_time": "2022-06-23T13:07:29.709451Z",
     "start_time": "2022-06-23T13:07:29.705912Z"
    }
   },
   "outputs": [],
   "source": [
    "class Galaxia:          #Convención: Usar mayúsculas al inicio para las clases\n",
    "    masa = 0.\n",
    "    n_estrellas = 0     #Estas son las propiedades del objeto\n",
    "    masa_gas = 0.\n",
    "    ra = \"\"\n",
    "    dec = \"\"\n",
    "    \n",
    "    def __init__(self): \n",
    "        pass"
   ]
  },
  {
   "cell_type": "markdown",
   "metadata": {},
   "source": [
    "La función **__init__** se le conoce como constructor, es una función que se ejecuta al crear el objeto. Por lo general se emplea para inicializar las propiedades:"
   ]
  },
  {
   "cell_type": "code",
   "execution_count": 118,
   "metadata": {
    "ExecuteTime": {
     "end_time": "2022-06-23T15:14:15.200036Z",
     "start_time": "2022-06-23T15:14:15.162639Z"
    }
   },
   "outputs": [
    {
     "name": "stdout",
     "output_type": "stream",
     "text": [
      "Construyendo un objeto de clase galaxia.\n",
      "Construyendo un objeto de clase galaxia.\n"
     ]
    },
    {
     "data": {
      "text/plain": [
       "1e+30"
      ]
     },
     "execution_count": 118,
     "metadata": {},
     "output_type": "execute_result"
    }
   ],
   "source": [
    "class Galaxia:          #Convención: Usar mayúsculas al inicio para las clases\n",
    "    masa = 0.\n",
    "    n_estrellas = 0     #Estas son las propiedades del objeto\n",
    "    masa_gas = 0.\n",
    "    ra = \"\"\n",
    "    dec = \"\"\n",
    "    \n",
    "    def __init__(self, masa, ra, dec): \n",
    "        print (\"Construyendo un objeto de clase galaxia.\")\n",
    "        self.masa = masa\n",
    "        self.ra = ra\n",
    "        self.dec = dec\n",
    "    \n",
    "    def luminosidad (self):\n",
    "        return self.masa**2.5\n",
    "\n",
    "arp200 = Galaxia (1e12, \"06:54:32.5\", \"-44:33:52\")\n",
    "zw_1  = Galaxia (3.2e1, \"12:45:56.32\", \"12:20:34\")\n",
    "arp200.n_estrellas = 3.4e11\n",
    "arp200.luminosidad()"
   ]
  },
  {
   "cell_type": "markdown",
   "metadata": {},
   "source": [
    "### Herencia \n",
    "\n",
    "La herencia permite crear clases mas especificas, que reutilizan las propiedades y métodos de una (o mas) clases previamente definidas:\n"
   ]
  },
  {
   "cell_type": "code",
   "execution_count": 119,
   "metadata": {
    "ExecuteTime": {
     "end_time": "2022-06-23T15:15:44.978960Z",
     "start_time": "2022-06-23T15:15:44.954892Z"
    }
   },
   "outputs": [
    {
     "name": "stdout",
     "output_type": "stream",
     "text": [
      "Construyendo un objeto de clase galaxia.\n",
      "Se creó una galaxia eliptica\n",
      "0.0015416493989131017\n",
      "Construyendo un objeto de clase galaxia.\n",
      "Se creó una galaxia de disco\n",
      "0.6065306597126334\n"
     ]
    }
   ],
   "source": [
    "import math\n",
    "\n",
    "class Galaxia:          #Convención: Usar mayúsculas al inicio para las clases\n",
    "    masa = 0.\n",
    "    n_estrellas = 0     #Estas son las propiedades del objeto\n",
    "    masa_gas = 0.\n",
    "    ra = \"\"\n",
    "    dec = \"\"\n",
    "    \n",
    "    def __init__(self, masa, ra, dec): \n",
    "        print (\"Construyendo un objeto de clase galaxia.\")\n",
    "        self.masa = masa\n",
    "        self.ra = ra\n",
    "        self.dec = dec\n",
    "    \n",
    "    def luminosidad (self):\n",
    "        return self.masa**2.5\n",
    "    \n",
    "    def brillo_superficial (self, r):\n",
    "        pass\n",
    "\n",
    "\n",
    "class GalaxiaEliptica(Galaxia):\n",
    "    \n",
    "    def __init__(self, masa, ra, dec, radio_media):\n",
    "        super().__init__(masa,ra,dec)\n",
    "        self.radio_media = radio_media\n",
    "        print (\"Se creó una galaxia eliptica\")\n",
    "    \n",
    "    def brillo_superficial (self,r):\n",
    "        \"\"\"Aqui usamos el perfil de De Vaucouleurs\"\"\"\n",
    "        return math.exp(-7.7*(1-r/self.radio_media)**(1/4))\n",
    "\n",
    "class GalaxiaDisco(Galaxia):\n",
    "    \n",
    "    def __init__(self, masa, ra, dec, radio_media):\n",
    "        super().__init__(masa,ra,dec)\n",
    "        self.radio_media = radio_media\n",
    "        print (\"Se creó una galaxia de disco\")\n",
    "    \n",
    "    def brillo_superficial (self,r):\n",
    "        \"\"\"Aqui usamos el perfil de Sersic con n=1\"\"\"\n",
    "        return math.exp(-(1-r/self.radio_media))\n",
    "    \n",
    "\n",
    "M87 = GalaxiaEliptica(1e13, \"12:34:56\", \"+11:23:55\", 100)\n",
    "print(M87.brillo_superficial(50))\n",
    "\n",
    "M81 = GalaxiaDisco (1e13, \"12:34:56\", \"+11:23:55\", 100)\n",
    "print(M81.brillo_superficial(50))"
   ]
  },
  {
   "cell_type": "markdown",
   "metadata": {},
   "source": [
    "## Ejercicios\n",
    "\n",
    "1. Utilice una comprenión de lista para extraer la edad y las calificaciones del siguiente diccionario:"
   ]
  },
  {
   "cell_type": "code",
   "execution_count": null,
   "metadata": {
    "ExecuteTime": {
     "end_time": "2022-06-23T13:07:29.854732Z",
     "start_time": "2022-06-23T13:07:29.848571Z"
    }
   },
   "outputs": [],
   "source": [
    "estudiantes ={1:{\"Nombre\":\"David\", \"Edad\":14, \"Calificacion\": 6},\\\n",
    "              2:{\"Nombre\":\"Emmaly\", \"Edad\":15, \"Calificacion\": 9},\\\n",
    "              3:{\"Nombre\":\"Alfredo\", \"Edad\":15, \"Calificacion\": 8},\\\n",
    "              4:{\"Nombre\":\"Araceli\", \"Edad\":16, \"Calificacion\": 10}\n",
    "             }"
   ]
  },
  {
   "cell_type": "code",
   "execution_count": 120,
   "metadata": {
    "ExecuteTime": {
     "end_time": "2022-06-23T15:17:14.533860Z",
     "start_time": "2022-06-23T15:17:14.524396Z"
    }
   },
   "outputs": [],
   "source": [
    "a = range(-1000,1000)\n",
    "a = 0"
   ]
  }
 ],
 "metadata": {
  "kernelspec": {
   "display_name": "Python 3",
   "language": "python",
   "name": "python3"
  },
  "language_info": {
   "codemirror_mode": {
    "name": "ipython",
    "version": 3
   },
   "file_extension": ".py",
   "mimetype": "text/x-python",
   "name": "python",
   "nbconvert_exporter": "python",
   "pygments_lexer": "ipython3",
   "version": "3.8.10"
  },
  "latex_envs": {
   "LaTeX_envs_menu_present": true,
   "autoclose": false,
   "autocomplete": true,
   "bibliofile": "biblio.bib",
   "cite_by": "apalike",
   "current_citInitial": 1,
   "eqLabelWithNumbers": true,
   "eqNumInitial": 1,
   "hotkeys": {
    "equation": "Ctrl-E",
    "itemize": "Ctrl-I"
   },
   "labels_anchors": false,
   "latex_user_defs": false,
   "report_style_numbering": false,
   "user_envs_cfg": false
  },
  "toc": {
   "base_numbering": 1,
   "nav_menu": {},
   "number_sections": true,
   "sideBar": true,
   "skip_h1_title": false,
   "title_cell": "Table of Contents",
   "title_sidebar": "Contents",
   "toc_cell": false,
   "toc_position": {
    "height": "calc(100% - 180px)",
    "left": "10px",
    "top": "150px",
    "width": "165px"
   },
   "toc_section_display": true,
   "toc_window_display": true
  }
 },
 "nbformat": 4,
 "nbformat_minor": 4
}
