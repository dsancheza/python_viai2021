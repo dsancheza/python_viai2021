{
 "cells": [
  {
   "cell_type": "markdown",
   "metadata": {},
   "source": [
    "\n",
    "# Introducción a Python\n",
    "\n",
    "## Elementos Básicos del Lenguaje\n",
    "\n",
    "### Identificadores  de variables\n",
    "\n",
    "Un identificador es el nombre que le ponemos a un variable para identificarla y poder realizar operaciones con ella. Todos los lenguajes de programación tienen sus reglas. En el caso de python:\n",
    " 1. No puede empezar con un número (0-9).\n",
    " 1. Se puede utilizar cualquier combinación de letras mayúsculas (A-Z) y minúsculas (a-z).\n",
    " 1. Se puede utilizar el guíon bajo (\\_).\n",
    " 1. No se puede utilizar el nombre de una palabra reservada del lenguaje (if, then, break...).\n",
    " \n",
    " Las variables se crean mediante la operación de asignación denotada por el símbolo de igual (=).\n",
    " \n",
    "***Ejemplos***:\n",
    " "
   ]
  },
  {
   "cell_type": "code",
   "execution_count": 2,
   "metadata": {
    "ExecuteTime": {
     "end_time": "2022-06-21T15:02:34.351382Z",
     "start_time": "2022-06-21T15:02:34.337116Z"
    }
   },
   "outputs": [],
   "source": [
    "a = 5\n",
    "b = 11.35\n",
    "mi_variable_ = \"a\"\n",
    "_otra_variable = \"x\"\n"
   ]
  },
  {
   "cell_type": "markdown",
   "metadata": {
    "variables": {
     " a ": "5",
     " b ": "11.35",
     " mi_variable_ ": "a"
    }
   },
   "source": [
    "Y podemos ver los valores que tienen las variables:\n",
    "\n",
    "**a** es {{ a }}\n",
    "\n",
    "\n",
    "**b** es {{ b }}\n",
    "\n",
    "**mi_variable_** es {{ mi_variable_ }}"
   ]
  },
  {
   "cell_type": "markdown",
   "metadata": {},
   "source": [
    "Pero esto debe de causar un grave error"
   ]
  },
  {
   "cell_type": "code",
   "execution_count": 5,
   "metadata": {
    "ExecuteTime": {
     "end_time": "2022-06-21T15:04:12.117993Z",
     "start_time": "2022-06-21T15:04:12.109637Z"
    }
   },
   "outputs": [],
   "source": [
    "_if = 30"
   ]
  },
  {
   "cell_type": "code",
   "execution_count": 15,
   "metadata": {
    "ExecuteTime": {
     "end_time": "2022-06-21T15:04:47.730341Z",
     "start_time": "2022-06-21T15:04:47.713226Z"
    }
   },
   "outputs": [
    {
     "data": {
      "text/plain": [
       "'abbbbbbbbb'"
      ]
     },
     "execution_count": 15,
     "metadata": {},
     "output_type": "execute_result"
    }
   ],
   "source": [
    "_ +\"b\""
   ]
  },
  {
   "cell_type": "markdown",
   "metadata": {},
   "source": [
    "Podemos averiguar el valor de una variable mediante la función print. Notemos que en python 3 es necesario utilizar los paréntesis para imprimir en pantalla: "
   ]
  },
  {
   "cell_type": "code",
   "execution_count": 19,
   "metadata": {
    "ExecuteTime": {
     "end_time": "2022-06-21T15:05:54.908938Z",
     "start_time": "2022-06-21T15:05:54.898274Z"
    }
   },
   "outputs": [
    {
     "name": "stdout",
     "output_type": "stream",
     "text": [
      "5\n",
      "11.35 a\n"
     ]
    }
   ],
   "source": [
    "print (a)\n",
    "print (b, mi_variable_)"
   ]
  },
  {
   "cell_type": "markdown",
   "metadata": {},
   "source": [
    "**NOTA**\n",
    "    Es de especial cuidado el uso de los guiones bajos ***al inicio*** del identificador. En python hay casos en el que se le indica un comportamiento especial para una variable que inicia con uno o dos guiones bajos. Esto lo veremos mas adelante.\n",
    "    El guión bajo después del identificador nos permite usar una palabra reservada como identificador:"
   ]
  },
  {
   "cell_type": "code",
   "execution_count": 22,
   "metadata": {
    "ExecuteTime": {
     "end_time": "2022-06-21T15:06:33.037922Z",
     "start_time": "2022-06-21T15:06:33.013329Z"
    }
   },
   "outputs": [
    {
     "name": "stdout",
     "output_type": "stream",
     "text": [
      "4\n"
     ]
    }
   ],
   "source": [
    "def_ = 3\n"
   ]
  },
  {
   "cell_type": "markdown",
   "metadata": {},
   "source": [
    "### Tipos de variables primarios\n",
    "\n",
    "En **python** el manejo de las variables se simplifica significativamente con respecto a otros lenguajes de programación como **C** o **Java**. El interprete de comandos de **python** averigua el tipo de variable a utilizar cuando se le asigna un valor.\n",
    "\n",
    "Las variables **lógicas** (o valor booleano) se emplea en comparaciones y expresiones condicionales. Admite solo dos valores **True** ó **False**:"
   ]
  },
  {
   "cell_type": "code",
   "execution_count": 23,
   "metadata": {
    "ExecuteTime": {
     "end_time": "2022-06-21T15:07:36.934866Z",
     "start_time": "2022-06-21T15:07:36.907801Z"
    }
   },
   "outputs": [
    {
     "name": "stdout",
     "output_type": "stream",
     "text": [
      "False True\n"
     ]
    }
   ],
   "source": [
    "switch = False\n",
    "bandera = True\n",
    "print (switch, bandera)"
   ]
  },
  {
   "cell_type": "markdown",
   "metadata": {},
   "source": [
    "Para los datos numericos solo existe el tipo **entero** (**int**) y el valor de punto flotante (***float***). \n",
    "\n",
    "Los enteros siempre tienen signo y no se desbordan, ya que cada dígito se representa con un número de bits fijo. Entre mas dígitos la variable ocupa un espacio en memoria mayor. Ejemplos:"
   ]
  },
  {
   "cell_type": "code",
   "execution_count": 24,
   "metadata": {
    "ExecuteTime": {
     "end_time": "2022-06-21T15:08:15.395945Z",
     "start_time": "2022-06-21T15:08:15.367944Z"
    }
   },
   "outputs": [
    {
     "name": "stdout",
     "output_type": "stream",
     "text": [
      "10 -2 24 43647\n"
     ]
    }
   ],
   "source": [
    "a = 10\n",
    "b = -2\n",
    "c = 0b11000             #Esto es un número en binario\n",
    "d = 0xAA7F              #Número en hexadecimal\n",
    "\n",
    "print (a, b, c, d)"
   ]
  },
  {
   "cell_type": "markdown",
   "metadata": {},
   "source": [
    "Podemos intentar desbordar una variable entera:"
   ]
  },
  {
   "cell_type": "code",
   "execution_count": 27,
   "metadata": {
    "ExecuteTime": {
     "end_time": "2022-06-21T15:09:18.514735Z",
     "start_time": "2022-06-21T15:09:18.506261Z"
    }
   },
   "outputs": [
    {
     "name": "stdout",
     "output_type": "stream",
     "text": [
      "9223372036854775807 9223372036965886918\n"
     ]
    }
   ],
   "source": [
    "entero = 9223372036854775807  #Maximo valor de un entero con signo \n",
    "                              #de 64 bits en C (2^63-1)\n",
    "print (entero, entero+111111111)"
   ]
  },
  {
   "cell_type": "markdown",
   "metadata": {},
   "source": [
    "Las literales para valores flotantes pueden darse en notación decimal o en notación científica:"
   ]
  },
  {
   "cell_type": "code",
   "execution_count": 28,
   "metadata": {
    "ExecuteTime": {
     "end_time": "2022-06-21T15:10:45.473762Z",
     "start_time": "2022-06-21T15:10:45.449081Z"
    }
   },
   "outputs": [
    {
     "name": "stdout",
     "output_type": "stream",
     "text": [
      "1.13 -30000000000.0 -inf\n"
     ]
    }
   ],
   "source": [
    "x = 1.13\n",
    "y = -3e10       #Es equivalente a -3x10^10\n",
    "bad = -4e4000    #Esto es un número que no se puede representar\n",
    "\n",
    "print (x, y, bad)"
   ]
  },
  {
   "cell_type": "markdown",
   "metadata": {},
   "source": [
    "### Operadores Matemáticos\n",
    "\n",
    "Antes de continuar con los tipos de datos complejos es conveniente definir las operaciones básicas entre los tipos primarios:\n"
   ]
  },
  {
   "cell_type": "code",
   "execution_count": 9,
   "metadata": {
    "ExecuteTime": {
     "end_time": "2022-06-13T14:33:12.864427Z",
     "start_time": "2022-06-13T14:33:12.857136Z"
    }
   },
   "outputs": [
    {
     "name": "stdout",
     "output_type": "stream",
     "text": [
      "a+b     = 5\n",
      "a-b     = 1\n",
      "a*b     = 6\n",
      "a/b     = 1.5\n",
      "a//b    = 1\n",
      "a mod b = 1\n",
      "a^b     = 9\n",
      "a^{1/b} = 1.7320508075688772\n",
      "a^{1//b}= 1.0\n"
     ]
    }
   ],
   "source": [
    "a = 3\n",
    "b = 2\n",
    "\n",
    "print (\"a+b     =\", a+b)\n",
    "print (\"a-b     =\", a-b)\n",
    "print (\"a*b     =\", a*b)\n",
    "print (\"a/b     =\", a/b)           #Esto nos regresa un valor flotante  \n",
    "print (\"a//b    =\", a//b)          #Esto nos regresa un valor entero truncado\n",
    "print (\"a mod b =\", a%b)           #El residuo de la división entera\n",
    "print (\"a^b     =\", a**b)\n",
    "print (\"a^{1/b} =\", a**(1.0/b))\n",
    "print (\"a^{1//b}=\", a**(1.0//b))"
   ]
  },
  {
   "cell_type": "markdown",
   "metadata": {},
   "source": [
    "### Operadores de comparación\n",
    "\n",
    "Como su nombre lo indica, comparan dos valores y regresan un valor booleano (True o False):\n",
    "\n",
    "<table><tr><td>\n",
    "    Operación</td><td> Símbolo</td> </tr>\n",
    "    <tr>\n",
    "    <td>Igual</td><td> ==</td> </tr>\n",
    "    <tr>\n",
    "    <td>Diferente</td><td>!=</td></tr>\n",
    "    <tr>\n",
    "    <td>Mayor que</td><td> ></td> </tr>\n",
    "    <tr>\n",
    "    <td>Menor que</td><td> <  </td> </tr>\n",
    "    <tr>\n",
    "    <td>Mayor o igual</td><td> >= </td> </tr>\n",
    "    <tr>\n",
    "    <td>Menor igual</td><td> <= </td> </tr>\n",
    "    </table>\n",
    "    \n",
    "\n",
    "\n",
    "Ejemplos:"
   ]
  },
  {
   "cell_type": "code",
   "execution_count": 30,
   "metadata": {
    "ExecuteTime": {
     "end_time": "2022-06-21T15:13:31.520230Z",
     "start_time": "2022-06-21T15:13:31.513956Z"
    }
   },
   "outputs": [
    {
     "name": "stdout",
     "output_type": "stream",
     "text": [
      "4<3 ?  False\n",
      "4>3 ?  True\n",
      "0 == 0.0 ? True\n",
      "-0 != 0.0 ? False\n"
     ]
    }
   ],
   "source": [
    "print (\"4<3 ? \", 4<3)\n",
    "print (\"4>3 ? \", 4>3)\n",
    "print (\"0 == 0.0 ?\", 0 == 0.0)\n",
    "print (\"-0 != 0.0 ?\", -0 != 0.0)"
   ]
  },
  {
   "cell_type": "markdown",
   "metadata": {},
   "source": [
    "### Operadores Lógicos\n",
    "\n",
    "Realizan operaciones del algebra booleana. Sus operandos son valores lógicos y regresan un valor del mismo tipo:\n",
    "\n",
    "<table><tr><td>\n",
    "    <b>Operación</b></td><td> <b>Símbolo</b></td> <td><b> Resultado</b></td> </tr>\n",
    "    <tr>\n",
    "    <td> Y</td><td> and</td> <td> Verdadero solo si ambos operandos son verdaderos </tr>\n",
    "    <tr>\n",
    "        <td>O</td><td>or </td> <td>Verdadero cuando uno o ambos operandos son verdaderos</td></tr>\n",
    "    <tr>\n",
    "        <td>NOT</td><td> not </td> <td>Invierte el valor lógico</td> \n",
    "    </tr>\n",
    "   \n",
    "</table>"
   ]
  },
  {
   "cell_type": "code",
   "execution_count": 31,
   "metadata": {
    "ExecuteTime": {
     "end_time": "2022-06-21T15:14:39.203605Z",
     "start_time": "2022-06-21T15:14:39.187636Z"
    }
   },
   "outputs": [
    {
     "name": "stdout",
     "output_type": "stream",
     "text": [
      "exp1 Y exp2  -> False\n",
      "exp1 O exp2 -> True\n",
      "not exp1 -> True\n",
      "not exp2 -> False\n"
     ]
    }
   ],
   "source": [
    "exp1 = 4<3\n",
    "exp2 = 2 == 1+1\n",
    "\n",
    "print (\"exp1 Y exp2  ->\", exp1 and exp2)\n",
    "print (\"exp1 O exp2 ->\", exp1 or exp2)\n",
    "print (\"not exp1 ->\", not exp1)\n",
    "print (\"not exp2 ->\", not exp2)"
   ]
  },
  {
   "cell_type": "markdown",
   "metadata": {},
   "source": [
    "### Operadores de Asignación\n",
    "\n",
    "Como su nombre lo índica, realizan una operación y una asignación de manera simulatánea\n",
    "\n",
    "<table><tr><td>\n",
    "    Operación</td><td> Equivalente</td> </tr>\n",
    "    <tr>\n",
    "    <td>a+=b</td><td>a=a+b</td> </tr>\n",
    "    <tr>\n",
    "    <td>a-=b</td><td>a=a-b</td></tr>\n",
    "    <tr>\n",
    "    <td>a*=2*b</td><td>a = a*2*b</td> </tr>\n",
    "    <tr>\n",
    "    <td>a/=b**2</td><td>  a = a/b**2  </td> </tr>\n",
    "    </table>\n",
    "\n",
    "### Operadores a nivel de bit\n",
    "\n",
    "Como su nombre lo índica, operan entre los bit que representan un valor entero \n"
   ]
  },
  {
   "cell_type": "code",
   "execution_count": 25,
   "metadata": {
    "ExecuteTime": {
     "end_time": "2022-06-13T15:09:47.987930Z",
     "start_time": "2022-06-13T15:09:47.984201Z"
    }
   },
   "outputs": [
    {
     "name": "stdout",
     "output_type": "stream",
     "text": [
      "41\n"
     ]
    }
   ],
   "source": [
    "i += 1\n",
    "print(i)"
   ]
  },
  {
   "cell_type": "code",
   "execution_count": 32,
   "metadata": {
    "ExecuteTime": {
     "end_time": "2022-06-21T15:18:06.975168Z",
     "start_time": "2022-06-21T15:18:06.944742Z"
    }
   },
   "outputs": [
    {
     "name": "stdout",
     "output_type": "stream",
     "text": [
      "a and b 0x2 2\n",
      "a or b  0xb 11\n",
      "a xor b 0b1001 9\n",
      "not a -0b1011 -11\n"
     ]
    }
   ],
   "source": [
    "a = 0b1010      #10\n",
    "b = 0b0011      #3\n",
    "\n",
    "print (\"a and b\", hex(a&b), a&b)  #0010\n",
    "print (\"a or b \", hex(a|b), a|b)  #1011\n",
    "print (\"a xor b\", bin(a^b), a^b)  #1001\n",
    "print (\"not a\", bin(~a), ~a)"
   ]
  },
  {
   "cell_type": "markdown",
   "metadata": {},
   "source": [
    "### Estructuras de Control\n",
    "\n",
    "\n",
    "#### Condicionales\n",
    "\n",
    "La sentencia **if** se utliza para realizar operaciones distintas en base a una condición lógica. La sintaxis básica es:\n",
    "\n",
    "    if <condicion>:\n",
    "        op si verdadero\n",
    "    \n",
    "o bien si se necesitan operaciones diferentes si las operaciones son falsas se utiliza la sentencia else\n",
    "\n",
    "    if <condicion>:\n",
    "        op si verdadero\n",
    "    else:\n",
    "        op si falso\n",
    "\n",
    "finalmente se tiene la sentencia elif para poder anidar decisiones, ejemplo:\n",
    "    "
   ]
  },
  {
   "cell_type": "code",
   "execution_count": 42,
   "metadata": {
    "ExecuteTime": {
     "end_time": "2022-06-21T15:24:23.650774Z",
     "start_time": "2022-06-21T15:24:23.629903Z"
    }
   },
   "outputs": [
    {
     "ename": "IndentationError",
     "evalue": "unexpected indent (<ipython-input-42-872d5e8a4f3a>, line 5)",
     "output_type": "error",
     "traceback": [
      "\u001b[0;36m  File \u001b[0;32m\"<ipython-input-42-872d5e8a4f3a>\"\u001b[0;36m, line \u001b[0;32m5\u001b[0m\n\u001b[0;31m    print (\"El numero positivo seria\", -x)\u001b[0m\n\u001b[0m    ^\u001b[0m\n\u001b[0;31mIndentationError\u001b[0m\u001b[0;31m:\u001b[0m unexpected indent\n"
     ]
    }
   ],
   "source": [
    "x = -3\n",
    "\n",
    "if x < 0:\n",
    "    print (\"El número es negativo\")\n",
    "    print (\"El numero positivo seria\", -x)    \n",
    "elif x > 0:\n",
    "    print (\"El número es positivo\")\n",
    "elif x == 0:\n",
    "    print (\"El número es cero\")\n",
    "else:\n",
    "    print (\"No es un número\")\n",
    "\n"
   ]
  },
  {
   "cell_type": "markdown",
   "metadata": {},
   "source": [
    "#### Indentación en las estructuras de control\n",
    "\n",
    "En **python** la indentación es ***obligatoria***. Python usa la indentación para agrupar las instrucciones que corresponden a una esctructura de control. Las \"buenas prácticas\" establecidas en el PEP8 indican que se debe de usar 4 espacios para indentar."
   ]
  },
  {
   "cell_type": "markdown",
   "metadata": {},
   "source": [
    "### Ciclos\n",
    "\n",
    "En **python** existen dos tipos de ciclos la instruccion **while** y **for**. <br>\n",
    "\n",
    "**while** executa un grupo de instrucciones mientras una condición sea verdadera.\n",
    "\n",
    "    while <condicion>:\n",
    "        op1\n",
    "        op2\n",
    "\n",
    "En cambio **for** realiza un ciclo en una colección de datos\n",
    "\n",
    "    for <elemento> in <iterable>:\n",
    "        hacer algo con el elemento\n",
    "        \n",
    "Ejemplo determinar los numero pares del 1 a n:"
   ]
  },
  {
   "cell_type": "code",
   "execution_count": 47,
   "metadata": {
    "ExecuteTime": {
     "end_time": "2022-06-21T15:28:17.965306Z",
     "start_time": "2022-06-21T15:28:17.931680Z"
    }
   },
   "outputs": [
    {
     "name": "stdout",
     "output_type": "stream",
     "text": [
      "-20  es par\n",
      "-19  es impar\n",
      "-18  es par\n",
      "-17  es impar\n",
      "-16  es par\n",
      "-15  es impar\n",
      "-14  es par\n",
      "-13  es impar\n",
      "-12  es par\n",
      "-11  es impar\n",
      "-10  es par\n",
      "-9  es impar\n",
      "-8  es par\n",
      "-7  es impar\n",
      "-6  es par\n",
      "-5  es impar\n",
      "-4  es par\n",
      "-3  es impar\n",
      "-2  es par\n",
      "-1  es impar\n",
      "0  es par\n",
      "1  es impar\n",
      "2  es par\n",
      "3  es impar\n",
      "4  es par\n",
      "5  es impar\n",
      "6  es par\n",
      "7  es impar\n",
      "8  es par\n",
      "9  es impar\n",
      "10  es par\n",
      "11  es impar\n",
      "12  es par\n",
      "13  es impar\n",
      "14  es par\n",
      "15  es impar\n",
      "16  es par\n",
      "17  es impar\n",
      "18  es par\n",
      "19  es impar\n"
     ]
    }
   ],
   "source": [
    "n = 20\n",
    "\n",
    "for ix in range(-n,n):\n",
    "    if ix % 2 == 0:\n",
    "        print (ix, \" es par\") \n",
    "    else:\n",
    "        print (ix, \" es impar\")\n",
    "        "
   ]
  },
  {
   "cell_type": "markdown",
   "metadata": {},
   "source": [
    "Dentro de los ciclos podemos utilizar la instrucción **continue** para \"saltar\" a la siguiente iteración. Podemos modificar el código del ejemplo anterior para evitar el valor 0:"
   ]
  },
  {
   "cell_type": "code",
   "execution_count": 48,
   "metadata": {
    "ExecuteTime": {
     "end_time": "2022-06-21T15:29:32.507693Z",
     "start_time": "2022-06-21T15:29:32.498592Z"
    }
   },
   "outputs": [
    {
     "name": "stdout",
     "output_type": "stream",
     "text": [
      "-10  es par\n",
      "-8  es par\n",
      "-6  es par\n",
      "-4  es par\n",
      "-2  es par\n",
      "2  es par\n",
      "4  es par\n",
      "6  es par\n",
      "8  es par\n"
     ]
    }
   ],
   "source": [
    "n = 10\n",
    "\n",
    "for ix in range(-n,n):\n",
    "    if ix == 0:\n",
    "        continue\n",
    "    if ix % 2 == 0:              #Cuando ix es 0 este código no se ejecuta\n",
    "        print (ix, \" es par\") \n",
    "        "
   ]
  },
  {
   "cell_type": "markdown",
   "metadata": {},
   "source": [
    "En el ejemplo anterior utilizamos la función **range** para generar los números del -10 al 10. Como su nombre lo indica esta función genera un intervalo de números. Su sintaxis general es:\n",
    "\n",
    "    range (valor_inicial, valor_final, incremento)\n",
    "    \n",
    "Si solo se envía un valor como argumento regresea la secuencia del 0 a valor_final-1.\n",
    "\n",
    "**Ejemplos**\n",
    "    range (5)     ->  0,1,2,3,4\n",
    "    range (2,5)   ->  2,3,4\n",
    "    range (0,10,3)->  0,3,6,9\n",
    "\n",
    "**Nota** Esta función nunca incluye el valor_final en el intervalo generado."
   ]
  },
  {
   "cell_type": "code",
   "execution_count": 56,
   "metadata": {
    "ExecuteTime": {
     "end_time": "2022-06-21T15:34:27.582225Z",
     "start_time": "2022-06-21T15:34:27.555002Z"
    }
   },
   "outputs": [
    {
     "name": "stdout",
     "output_type": "stream",
     "text": [
      "0 1 2 3 4 5 6 7 8 9 10 11 12 13 14\n",
      "-20 -16 -12 -8 -4 0 4 8 12 16\n"
     ]
    }
   ],
   "source": [
    "print (*range(15))    #range (0,15,1)\n",
    "print (*range(-20,17, 4))"
   ]
  },
  {
   "cell_type": "markdown",
   "metadata": {},
   "source": [
    "Con la instrucción **break** podemos terminar el ciclo anticipamente. Solicitemos un número par al usuario. La entrada desde el teclado se puede obtener con la dunción **input**."
   ]
  },
  {
   "cell_type": "code",
   "execution_count": 52,
   "metadata": {
    "ExecuteTime": {
     "end_time": "2022-06-21T15:32:07.164457Z",
     "start_time": "2022-06-21T15:31:57.060214Z"
    }
   },
   "outputs": [
    {
     "name": "stdout",
     "output_type": "stream",
     "text": [
      "Teclea un número entero par15\n",
      "El número no es par\n",
      "Teclea un número entero par3\n",
      "El número no es par\n",
      "Teclea un número entero par4\n",
      "El número es par\n"
     ]
    }
   ],
   "source": [
    "while True:                         #Esto es un ciclo infinito\n",
    "    numero = int(input (\"Teclea un número entero par\"))\n",
    "    if numero % 2 == 0:\n",
    "        break                       #Esta es la única forma de salir del ciclo\n",
    "    print (\"El número no es par\")\n",
    "\n",
    "print (\"El número es par\")"
   ]
  },
  {
   "cell_type": "markdown",
   "metadata": {},
   "source": [
    "### Funciones\n",
    "\n",
    "Las funciones nos permiten reutilizar el código escrito para realizar una tarea específica. La sintaxis básica es:\n",
    "\n",
    "    def nombre_funcion (parametro_1, parametro_2, ..... parametro_n):\n",
    "        instruccion_1\n",
    "        instruccion_2\n",
    "        \n",
    "        return valor_de_retorno\n",
    "\n",
    "Ejemplo: Crear una función que determine si un entero positivo es primo o no\n"
   ]
  },
  {
   "cell_type": "code",
   "execution_count": 72,
   "metadata": {
    "ExecuteTime": {
     "end_time": "2022-06-21T15:54:15.397350Z",
     "start_time": "2022-06-21T15:54:15.378675Z"
    }
   },
   "outputs": [
    {
     "name": "stdout",
     "output_type": "stream",
     "text": [
      "True\n",
      "False\n",
      "True\n",
      "True\n"
     ]
    }
   ],
   "source": [
    "def es_primo (numero):\n",
    "    if numero == 0 or numero == 1 or numero % 2 == 0 or numero < 0:\n",
    "        return False\n",
    "    #busca_mas = int(numero**0.5) + 1\n",
    "    for i in range (3, numero, 2):\n",
    "        if numero % i == 0:\n",
    "            return False\n",
    "    return True\n",
    "\n",
    "print (es_primo(11))\n",
    "print (es_primo(15))\n",
    "print (es_primo(37))\n",
    "print (es_primo(73))"
   ]
  },
  {
   "cell_type": "markdown",
   "metadata": {},
   "source": [
    "#### Parámetros \n",
    "\n",
    "En **python** se pueden identificar tres tipos de parámetros: obligatorios, opcionales y adicionales. Por el momento nos concentraremos en los primero dos. Los parámetros adicionales serán cubiertos después de ver los tipos de datos compuestos.\n",
    "\n",
    "Consideremos la función:"
   ]
  },
  {
   "cell_type": "code",
   "execution_count": 60,
   "metadata": {
    "ExecuteTime": {
     "end_time": "2022-06-21T15:42:44.490082Z",
     "start_time": "2022-06-21T15:42:44.467550Z"
    }
   },
   "outputs": [
    {
     "name": "stdout",
     "output_type": "stream",
     "text": [
      "4\n",
      "La luminosidad de una estrella de 2 Msun: 0.5685766774493649 Lsun\n",
      "La luminosidad de una estrella de 1 Msun: 0.0625 Lsun\n",
      "La luminosidad de una estrella de 0.1 Msun: 0.04670451279048355 Lsun\n"
     ]
    }
   ],
   "source": [
    "\n",
    "escala = 4\n",
    "\n",
    "def masa_luminosidad (masa, A = 1.4, alpha=2.3):\n",
    "    \"\"\"\n",
    "    Regresa el valor de la luminosidad de una estrella en función de su masa.\n",
    "    \n",
    "    masa: \n",
    "        es el parametro obligatorio que contiene el valor de la masa de la estrella en masas solares\n",
    "    A:\n",
    "        constante de normalización (por defecto 1.4, valor válido para estrellas 2-55 Msun)\n",
    "    alpha:\n",
    "        exponente de la ley de potencia (por defecto 2.3 valor válido para estrellas 2-55 Msun)\n",
    "    \"\"\"\n",
    "    escala = 2\n",
    "    return A*masa/escala**alpha\n",
    "\n",
    "print (escala)\n",
    "print (\"La luminosidad de una estrella de 2 Msun:\", masa_luminosidad(2), \"Lsun\")\n",
    "print (\"La luminosidad de una estrella de 1 Msun:\", masa_luminosidad(1, alpha=4, A=1), \"Lsun\")\n",
    "print (\"La luminosidad de una estrella de 0.1 Msun:\", masa_luminosidad(1, 0.23, 2.3), \"Lsun\")\n",
    "\n"
   ]
  },
  {
   "cell_type": "code",
   "execution_count": null,
   "metadata": {
    "ExecuteTime": {
     "end_time": "2021-06-17T15:33:21.428175Z",
     "start_time": "2021-06-17T15:33:21.422408Z"
    }
   },
   "outputs": [],
   "source": []
  },
  {
   "cell_type": "markdown",
   "metadata": {},
   "source": [
    "#### Función Recursiva\n",
    "\n",
    "Es una función que se llama a si misma para calcular un valor. Estas funciones deben de tener una **condición de terminación**. Por ejemplo para calcular el factorial: \n",
    "$$n! = n*(n-1)*(n-2)*...*(n-m)*1$$\n",
    "$$n! = n(n-1)!$$. En este caso hay dos condiciones de terminación $$1! = 1$$ $$0! = 1$$. El código equivalente es:"
   ]
  },
  {
   "cell_type": "code",
   "execution_count": 62,
   "metadata": {
    "ExecuteTime": {
     "end_time": "2022-06-21T15:44:41.053732Z",
     "start_time": "2022-06-21T15:44:41.043831Z"
    }
   },
   "outputs": [
    {
     "name": "stdout",
     "output_type": "stream",
     "text": [
      "0! = 1\n",
      "20! = 93326215443944152681699238856266700490715968264381621468592963895217599993229915608941463976156518286253697920827223758251185210916864000000000000000000000000\n"
     ]
    }
   ],
   "source": [
    "def factorial (n):\n",
    "    if n == 0 or n == 1:\n",
    "        return 1\n",
    "    return n*factorial(n-1)\n",
    "\n",
    "print (\"0! =\", factorial(0))\n",
    "print (\"20! =\", factorial(100))"
   ]
  },
  {
   "cell_type": "markdown",
   "metadata": {},
   "source": [
    "Este código recursivo es equivalente al siguiente ciclo:"
   ]
  },
  {
   "cell_type": "code",
   "execution_count": 64,
   "metadata": {
    "ExecuteTime": {
     "end_time": "2022-06-21T15:45:31.361689Z",
     "start_time": "2022-06-21T15:45:31.351747Z"
    }
   },
   "outputs": [
    {
     "name": "stdout",
     "output_type": "stream",
     "text": [
      "0! = 1\n",
      "20! = 93326215443944152681699238856266700490715968264381621468592963895217599993229915608941463976156518286253697920827223758251185210916864000000000000000000000000\n"
     ]
    }
   ],
   "source": [
    "def factorial_ciclo (n):\n",
    "\n",
    "    result = 1\n",
    "    while n>1: \n",
    "        result *= n\n",
    "        n-=1\n",
    "    return result\n",
    "\n",
    "print (\"0! =\", factorial_ciclo(0)) \n",
    "print (\"20! =\", factorial_ciclo(100))"
   ]
  },
  {
   "cell_type": "markdown",
   "metadata": {},
   "source": [
    "#### Funciones lambda\n",
    "\n",
    "La palabra reservada ***lambda*** nos permite crear una pequeña función asociada a una variable. "
   ]
  },
  {
   "cell_type": "code",
   "execution_count": 65,
   "metadata": {
    "ExecuteTime": {
     "end_time": "2022-06-21T15:47:17.312191Z",
     "start_time": "2022-06-21T15:47:17.285571Z"
    }
   },
   "outputs": [
    {
     "name": "stdout",
     "output_type": "stream",
     "text": [
      "156.25\n",
      "156.25\n"
     ]
    }
   ],
   "source": [
    "def potencia (base, exponente):\n",
    "    return base**exponente\n",
    "\n",
    "potcorta = lambda  base, exponente : base**exponente\n",
    "\n",
    "print (potencia (12.5,2))\n",
    "print (potcorta (12.5,2))"
   ]
  },
  {
   "cell_type": "markdown",
   "metadata": {},
   "source": [
    "Una de las aplicaciones de las funciones lambda es fijar el valor de uno o varios parámteros:"
   ]
  },
  {
   "cell_type": "code",
   "execution_count": 67,
   "metadata": {
    "ExecuteTime": {
     "end_time": "2022-06-21T15:47:45.718614Z",
     "start_time": "2022-06-21T15:47:45.713898Z"
    }
   },
   "outputs": [
    {
     "name": "stdout",
     "output_type": "stream",
     "text": [
      "4\n",
      "1000\n"
     ]
    }
   ],
   "source": [
    "cuadrado = lambda base : potcorta(base,2)\n",
    "cubo = lambda base : potcorta(base,3)\n",
    "\n",
    "\n",
    "print (cuadrado(2))\n",
    "print (cubo(10))"
   ]
  },
  {
   "cell_type": "markdown",
   "metadata": {},
   "source": [
    "### Acceso a funciones de otros módulos (líbrerias)\n",
    "\n",
    "Para agregar una funcionalidad de otro módulo a nuestro código empleamos la instrucción **import**\n",
    "\n",
    "Ejemplos:\n",
    "\n",
    "    import sys\n",
    "    import numpy as np         #Esto es un alias (dentro de nuestro código la librería numpy se\n",
    "                               #llamara np\n",
    "    \n",
    "También podemos importar solo un sub-modulo o función del modulo, esto lo logramos combinando la instrucción **from** con nuestro import:\n",
    "\n",
    "    from os.path import join \n",
    "    from numpy import mean as promedio\n",
    "\n",
    "    "
   ]
  },
  {
   "cell_type": "code",
   "execution_count": 76,
   "metadata": {
    "ExecuteTime": {
     "end_time": "2022-06-21T15:56:24.718414Z",
     "start_time": "2022-06-21T15:56:24.713909Z"
    }
   },
   "outputs": [
    {
     "name": "stdout",
     "output_type": "stream",
     "text": [
      "/home/domars/LMT\n",
      "3.141592653589793\n",
      "19.0\n",
      "21.333333333333332\n",
      "True\n"
     ]
    }
   ],
   "source": [
    "from os.path import join, exists\n",
    "from numpy import mean as promedio\n",
    "from math import pi\n",
    "from random import sample\n",
    "\n",
    "\n",
    "path = join (\"/home/domars\",\"LMT\")\n",
    "#path = join (\"c:\\Users\\David\",\"carpeta1\", \"carpeta2\")\n",
    "\n",
    "print (path)\n",
    "print (pi)\n",
    "\n",
    "x = range(10,30,2)\n",
    "\n",
    "print (promedio (x))\n",
    "print (promedio (sample(x,3)))\n",
    "print (exists(path))\n",
    "\n"
   ]
  },
  {
   "cell_type": "markdown",
   "metadata": {},
   "source": [
    "### Ejercicios"
   ]
  },
  {
   "cell_type": "markdown",
   "metadata": {},
   "source": [
    "1. Realizar un código que despliegue una piramide de asteriscos de ***n*** niveles. El valor de n se le debe de preguntar al usuario. Un ejemplo de la salida es:\n",
    "\n",
    "    n= 4\n",
    "    \n",
    "    \\*\n",
    "    \n",
    "    \\* \\*\n",
    "    \n",
    "    \\* \\* \\*\n",
    "    \n",
    "    \\* \\* \\* \\*"
   ]
  },
  {
   "cell_type": "markdown",
   "metadata": {},
   "source": [
    "2. Desplegar el triángulo de Pascal hasta el n-ésimo nivel. Ejemplo:\n",
    "\n",
    "       n = 4\n",
    "   \n",
    "             1\n",
    "           1   1\n",
    "         1   2   1\n",
    "       1   3   3   1"
   ]
  },
  {
   "cell_type": "code",
   "execution_count": null,
   "metadata": {},
   "outputs": [],
   "source": []
  }
 ],
 "metadata": {
  "kernelspec": {
   "display_name": "Python 3",
   "language": "python",
   "name": "python3"
  },
  "language_info": {
   "codemirror_mode": {
    "name": "ipython",
    "version": 3
   },
   "file_extension": ".py",
   "mimetype": "text/x-python",
   "name": "python",
   "nbconvert_exporter": "python",
   "pygments_lexer": "ipython3",
   "version": "3.8.10"
  },
  "latex_envs": {
   "LaTeX_envs_menu_present": true,
   "autoclose": false,
   "autocomplete": true,
   "bibliofile": "biblio.bib",
   "cite_by": "apalike",
   "current_citInitial": 1,
   "eqLabelWithNumbers": true,
   "eqNumInitial": 1,
   "hotkeys": {
    "equation": "Ctrl-E",
    "itemize": "Ctrl-I"
   },
   "labels_anchors": false,
   "latex_user_defs": false,
   "report_style_numbering": false,
   "user_envs_cfg": false
  },
  "toc": {
   "base_numbering": 1,
   "nav_menu": {},
   "number_sections": true,
   "sideBar": true,
   "skip_h1_title": false,
   "title_cell": "Table of Contents",
   "title_sidebar": "Contents",
   "toc_cell": false,
   "toc_position": {},
   "toc_section_display": true,
   "toc_window_display": true
  }
 },
 "nbformat": 4,
 "nbformat_minor": 2
}
